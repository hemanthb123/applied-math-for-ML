{
  "nbformat": 4,
  "nbformat_minor": 0,
  "metadata": {
    "kernelspec": {
      "name": "python3",
      "display_name": "Python 3"
    },
    "colab": {
      "name": "1-the-matrix-as-a-linear-machine.ipynb",
      "provenance": [],
      "toc_visible": true,
      "include_colab_link": true
    }
  },
  "cells": [
    {
      "cell_type": "markdown",
      "metadata": {
        "id": "view-in-github",
        "colab_type": "text"
      },
      "source": [
        "<a href=\"https://colab.research.google.com/github/hemanthb123/applied-math-for-ML/blob/master/1-the-matrix-as-a-linear-machine_modified.ipynb\" target=\"_parent\"><img src=\"https://colab.research.google.com/assets/colab-badge.svg\" alt=\"Open In Colab\"/></a>"
      ]
    },
    {
      "cell_type": "markdown",
      "metadata": {
        "id": "hb7uB3Y-MdPA"
      },
      "source": [
        "# Viewing a matrix as a function\n",
        "\n",
        "### What's a function?\n",
        "\n",
        "- Roughly, we can think of a function as a black box that takes inputs and produces outputs\n",
        "- Functions can be applied to any input-ouput relationship \n",
        "    1. The equation $y = mx + b$ where the input is $x \\in \\mathbb{R}$ and the output is $y \\in \\mathbb{R}$\n",
        "    2. An FM radio: the input to the radio is a specific frequency and the output is the radio station at that frequency\n",
        "    3. Deciding to increase/decrease taxes to improve the economy. The input is passing legislation to increase/decreases taxes and the outputs are unemployment rate, GDP growth, etc.     \n",
        "    4. Pulling the lever in a slot machine. The input is pulling the lever, the outputis the set of symbols the slot machine produces\n",
        "\n",
        "\n",
        "\n",
        "<img src=\"https://github.com/hemanthb123/applied-math-for-ML/blob/master/imgs/lecture-1/black.png?raw=1\" alt=\"Drawing\" style=\"width: 500px;\"/>\n",
        "\n",
        "- Comments about the example functions\n",
        "    1. The linear equation produces a unique output for each unique input. Is there an edge-case where this fails?\n",
        "    2. The FM radio will always give us the same radio station for a given input frequency (for example, 88.3 kHz). But the actual content of the output changes over time (the radio will play different songs during the day).\n",
        "    3. This example has a single input but many outputs. Furthermore, while increasing/descreaing taxes may have an impact on the economy, there are many other factors that also influence growth metrics. \n",
        "    4. This is an example where the output is completely indepenent of the input. "
      ]
    },
    {
      "cell_type": "markdown",
      "metadata": {
        "id": "o0V2c2m0MdPE"
      },
      "source": [
        "# The matrix as a linear machine\n",
        "\n",
        "- In this lecture we will view the matrix as describing a very special type of function:\n",
        "    - $f(x) = Ax$ \n",
        "    - where \n",
        "        - $A \\in \\mathbb{R}^{m\\times n}$, \n",
        "        - $x \\in \\mathbb{R}^{n}$\n",
        "        - $y \\in \\mathbb{R}^{m}$ \n",
        "        \n",
        "- In other words, we are going to think about $A \\in \\mathbb{R}^{m\\times n}$ as a function or a \"machine\" that transforms an array of $n$ numbers $x \\in \\mathbb{R}^{n}$ to another array of $m$ numbers $y \\in \\mathbb{R}^{m}$ \n",
        "\n",
        "\n",
        "- We will represent $n$ numbers $x \\in \\mathbb{R}^{n}$ as a column vector (unless otherwise noted):\n",
        "\n",
        "$x = \\begin{bmatrix} x_{1}\\\\  x_{2}\\\\  \\vdots \\\\  x_{n} \\end{bmatrix}$\n",
        "\n",
        "- Similarly we will denote the matrix $A \\in \\mathbb{R}^{m\\times n}$ as:\n",
        "\n",
        "$A = \\begin{bmatrix}\n",
        "a_{1,1} & a_{1,2} & \\cdots & a_{1,n}\\\\ \n",
        "a_{2,1} & a_{2,2} &  \\cdots & \\vdots\\\\ \n",
        "\\vdots &  &  \\ddots & \\vdots\\\\ \n",
        "a_{m,1} &  a_{m,2}& \\cdots & a_{m,n}\n",
        "\\end{bmatrix}$\n",
        "\n",
        "# Matrix-vector multiplication: \"formal\" definition\n",
        "\n",
        "For matrix $A \\in \\mathbb{R}^{m\\times n}$ and a vector $x \\in \\mathbb{R}^{n}$\n",
        "\n",
        "$A = \\begin{bmatrix}\n",
        "a_{1,1} & a_{1,2} & \\cdots & a_{1,n}\\\\ \n",
        "a_{2,1} & a_{2,2} &  \\cdots & \\vdots\\\\ \n",
        "\\vdots &  &  \\ddots & \\vdots\\\\ \n",
        "a_{m,1} &  a_{m,2}& \\cdots & a_{m,n}\n",
        "\\end{bmatrix}$ , $x = \\begin{bmatrix} x_{1}\\\\  x_{2}\\\\  \\vdots \\\\  x_{n} \\end{bmatrix}$\n",
        "\n",
        "\n",
        "### $Ax = \\sum_{i}^{n}\\sum_{j}^{m}a_{j,i}x_{i}$\n",
        "\n",
        "Easy to see we have $O(mn)$ multiplications.\n",
        "\n",
        "# Matrix-vector multiplication viewed as a linear combination of $n$ columns\n",
        "For matrix $A \\in \\mathbb{R}^{m\\times n}$ and a vector $x \\in \\mathbb{R}^{n}$\n",
        "\n",
        "$A = \\begin{bmatrix}\n",
        "a_{1} & a_{2} & \\cdots & a_{n}\n",
        "\\end{bmatrix}$ , where $a_{i} \\in \\mathbb{R}^{m\\times1}$\n",
        "\n",
        "\n",
        "\n",
        "### $y = Ax = \\sum_{i}^{n}a_{i}x_{i}$\n",
        "\n",
        "In this view we can think of matrix multiplication as trying to explain $y$ with a the column vectors of $A$. Each element of $x$ tells us how much of each column of $A$ to mix to get a desired $y$. In this view we are trying to find an $x$ that can be used to express $y$ with the columns of $A$. \n",
        "\n",
        "For example, each column can correspond to a different piano note (so on a full keyboard we would have 88 columns). Each element in $x$ in this case would correspond to selecting which notes to play on the keyboard and at what volume to get a desired chord or overall sound.\n",
        "\n",
        "<img src=\"\"./imgs/lecture-1/g_chord.png\" alt=\"Drawing\" style=\"width: 200px;\"/ align = left>\n",
        "\n"
      ]
    },
    {
      "cell_type": "markdown",
      "metadata": {
        "id": "YrMUaDPIMdPG"
      },
      "source": [
        "# Matrix-vector multiplication viewed as a projections onto $m$ rows\n",
        "For matrix $A \\in \\mathbb{R}^{m\\times n}$ and a vector $x \\in \\mathbb{R}^{n}$\n",
        "\n",
        "$A = \\begin{bmatrix}\n",
        "a_{1}^{T}\\\\ \n",
        "a_{2}^{T}\\\\ \n",
        "\\vdots \\\\ \n",
        "a_{m}^{T}\n",
        "\\end{bmatrix}$ where $a_{i}^{T} \\in \\mathbb{R}^{1\\times n}$\n",
        "\n",
        "\n",
        "### $Ax = \\begin{bmatrix}\n",
        "a_{1}^{T}x\\\\ \n",
        "a_{2}^{T}x\\\\ \n",
        "\\vdots \\\\ \n",
        "a_{m}^{T}x\n",
        "\\end{bmatrix}$\n",
        "\n",
        "\n",
        "In this view we can think of matrix multiplication as \"untagling\" $x$ into the components of the rows of $A$. The inner product (also known as dot product) operation $a_{i}^{T}x$ tells us how much does $x$ match up with $a_{i}$. The \"larger\" $a_{i}x$ is, the more $x$ is \"expressed\" by $a_{i}$.\n",
        "\n",
        "\n",
        "# Key question about matrices as linear transformations we address in this lecture\n",
        "\n",
        "- What happens when:\n",
        "    - $m < n$? \n",
        "    - $m > n$?\n",
        "    - $m = n$?"
      ]
    },
    {
      "cell_type": "markdown",
      "metadata": {
        "id": "J_DPe6FuMdPH"
      },
      "source": [
        "## Simple base case $m = n = 1$\n",
        "\n",
        "### $y = ax$ \n",
        "\n",
        "- $y , a, x \\in \\mathbb{R}$\n",
        "- In this case, the input and the output is the real number line. \n",
        "- We can think of this linear function as stretching or shrinking the real number line.\n",
        "- In this special case, $a$ is also called the slope.\n",
        "\n",
        "### Example: converting inches to centimeters\n",
        "- $y = \\frac{1}{2.54}x$ \n",
        "    - x is in inches and y is in centimeters. This function \"shrinks\" the measurements by a factor of 2.54\n",
        "    \n",
        "Even though this is elementary, lets illustrate it computationally to both get some intuition and get familiar with the libraries we will be using:"
      ]
    },
    {
      "cell_type": "code",
      "metadata": {
        "id": "GbQWgKsBMdPI"
      },
      "source": [
        "import numpy as np\n",
        "import matplotlib.pyplot as plt\n",
        "\n",
        "from IPython.display import display, HTML\n",
        "\n",
        "%matplotlib inline"
      ],
      "execution_count": 1,
      "outputs": []
    },
    {
      "cell_type": "code",
      "metadata": {
        "colab": {
          "base_uri": "https://localhost:8080/"
        },
        "id": "EXi27E7hMdPK",
        "outputId": "8086421c-8370-40ad-98b2-202b5e2a508b"
      },
      "source": [
        "N = 100                  # Number of measurements\n",
        "x = np.random.randn(N)   # a bunch of measurements in inches\n",
        "y = x/2.54               # the linear machine to transfrom from inches to centimeters\n",
        "x.shape"
      ],
      "execution_count": 23,
      "outputs": [
        {
          "output_type": "execute_result",
          "data": {
            "text/plain": [
              "(100,)"
            ]
          },
          "metadata": {
            "tags": []
          },
          "execution_count": 23
        }
      ]
    },
    {
      "cell_type": "code",
      "metadata": {
        "colab": {
          "base_uri": "https://localhost:8080/",
          "height": 149
        },
        "id": "O7NWTG1jMdPK",
        "outputId": "8ccc8368-591b-4943-fd3a-92c4d02edbca"
      },
      "source": [
        "plt.figure(figsize=(16, 1))\n",
        "\n",
        "plt.subplot(1,2,1)\n",
        "plt.plot(x, np.zeros_like(x), '+')\n",
        "plt.title(\"The input to the linear machine\")\n",
        "plt.xlabel(\"Measurements made in centimeters\")\n",
        "plt.yticks([])\n",
        "plt.subplot(1,2,2)\n",
        "plt.plot(y, np.zeros_like(y), '.')\n",
        "plt.yticks([])\n",
        "plt.title(\"The output of the linear machine\")\n",
        "plt.xlabel(\"Measurements made in inches\")\n"
      ],
      "execution_count": 11,
      "outputs": [
        {
          "output_type": "execute_result",
          "data": {
            "text/plain": [
              "Text(0.5,0,'Measurements made in inches')"
            ]
          },
          "metadata": {
            "tags": []
          },
          "execution_count": 11
        },
        {
          "output_type": "display_data",
          "data": {
            "image/png": "[encoded data removed]",
            "text/plain": [
              "<Figure size 1152x72 with 2 Axes>"
            ]
          },
          "metadata": {
            "tags": [],
            "needs_background": "light"
          }
        }
      ]
    },
    {
      "cell_type": "markdown",
      "metadata": {
        "id": "OEYrRTAgMdPM"
      },
      "source": [
        "- So the input to this machine (on the left) is just samples from the real number line and the output is also just samples from the real number line. However, as indicated by the scale of the horizontal axis, notice that the output is a *shurnk* version of the input data.\n",
        "- Notice in this example for every input we have a unique output. We can also find for every output what the corresponding input is. In this case we say that the linear function is **one-to-one** or **1-to-1**.\n",
        "- Is this true for every $m=n$ linear function?\n",
        "    - No, not true if $a = 0$, then $y = 0$ for all $x \\in \\mathbb{R}$\n",
        "    \n",
        "- Put another way, for $a \\neq 0$, we have lost no \"information\" but for $a = 0$ we lose information."
      ]
    },
    {
      "cell_type": "markdown",
      "metadata": {
        "id": "3Tny9lioMdPN"
      },
      "source": [
        "## Special case: m > n = 1\n",
        "\n",
        "### $\\begin{bmatrix}y_{1} \\\\ \\vdots \\\\y_{m} \\end{bmatrix} = \\begin{bmatrix}a_{1}  \\\\ \\vdots \\\\ a_{m} \\end{bmatrix}x$\n",
        "\n",
        "for $x \\in \\mathbb{R}$. In this case the input is a single number (called a **scalar**) that we can think of as just being 1-D. The output is now *multi-dimensional* since we are consider the case $m > 1$. In other words, the input is just 1 number whereas the output is an array of $m$ numbers. We can also write this as\n",
        "\n",
        "### $\\begin{bmatrix}y_{1} \\\\ \\vdots \\\\y_{m} \\end{bmatrix} = \\begin{bmatrix}a_{1}x  \\\\ \\vdots \\\\ a_{m}x \\end{bmatrix}$\n",
        "\n",
        "You might be tempted to think that with this linear machine we have somehow went from a \"1-dimensional\" input to an \"m-dimensional\" output. **However**, as we will soon see, even though the output consists of $m$ numbers, the inherit dimension of the output is still just 1.\n",
        "\n",
        "### m = 2\n",
        "Lets try to get some intuition behind linear machines of this type by considering the case where $m = 2$. In this case we have\n",
        "\n",
        "$\\begin{bmatrix}y_{1} \\\\y_{2} \\end{bmatrix} = \\begin{bmatrix}a_{1} \\\\a_{2} \\end{bmatrix}x$\n",
        "\n",
        "To keep the notation a little less cluttered, lets use $a = a_{1}$ and $b = a_{2}$. In this case, we can write\n",
        "\n",
        "$\\left\\{\\begin{matrix}\n",
        "y_{1} = ax \\\\\n",
        "y_{2} = bx\n",
        "\\end{matrix}\\right.$\n",
        "\n",
        "For now, let's assume that $a \\neq 0$ and $b \\neq 0$. Then, solving for $x$, we find that\n",
        "\n",
        "### $y_{2} = \\frac{b}{a}y_{1}$\n",
        "\n",
        "In other words, $y_{2}$ and $y_{1}$ are linearly dependent on each other! Knowing $y_{1}$ will tell us what $y_{2}$ is. So our linear machine is not taking 1-dimensional number as input and creating 2 sets of totally different numbers. These 2 numbers are related to each other and are not free to be anything they want. \n",
        "\n",
        "\n",
        "Another way to think about this isthat this linear machine does not \"cover\" all the points in $y_{1}, y_{2}$. It's only able to map to points that are restricted to the constraint $y_{2} = \\frac{b}{a}y_{1}$. \n",
        "\n",
        "Lets illustrate with a concrete example\n",
        "\n",
        "### Example: converting from centimeters to inches *and* feet\n",
        "\n",
        "$\\qquad\\begin{bmatrix}y_{1} \\\\y_{2} \\end{bmatrix} = \\begin{bmatrix}a_{1} \\\\a_{2} \\end{bmatrix}x$\n",
        "\n",
        "- x is in inches and y is in centimeters. This function \"shrinks\" the measurements by a factor of 2.54\n",
        "    \n",
        "Even though this is super basic, lets illustrate it computationally to both get some intuition and get familiar with the libraries we will be using:\n",
        "\n"
      ]
    },
    {
      "cell_type": "code",
      "metadata": {
        "id": "XLcBwYGaMdPP"
      },
      "source": [
        "N = 100                  # Number of measurements\n",
        "x = np.random.randn(N)   # a bunch of measurements in inches\n",
        "A = np.matrix([2.4, 12*2.14]).T\n",
        "#y = (np.dot(A,x.reshape((1,100)))).T\n",
        "y=(A*x).T"
      ],
      "execution_count": 27,
      "outputs": []
    },
    {
      "cell_type": "code",
      "metadata": {
        "colab": {
          "base_uri": "https://localhost:8080/",
          "height": 286
        },
        "id": "Aq9MoDZgMdPQ",
        "outputId": "fc7aa0e5-4f63-4606-a64d-83a5f93a5aeb"
      },
      "source": [
        "plt.plot(y[:,0], y[:,1], '.')"
      ],
      "execution_count": 28,
      "outputs": [
        {
          "output_type": "execute_result",
          "data": {
            "text/plain": [
              "[<matplotlib.lines.Line2D at 0x7efdcde25390>]"
            ]
          },
          "metadata": {
            "tags": []
          },
          "execution_count": 28
        },
        {
          "output_type": "display_data",
          "data": {
            "image/png": "[encoded data removed]",
            "text/plain": [
              "<Figure size 432x288 with 1 Axes>"
            ]
          },
          "metadata": {
            "tags": [],
            "needs_background": "light"
          }
        }
      ]
    },
    {
      "cell_type": "markdown",
      "metadata": {
        "id": "0F844V2iMdPR"
      },
      "source": [
        "## Exercise m = 1, n = 2\n",
        "\n",
        "$\\qquad y = \\begin{bmatrix}a_{1} & a_{2} \\end{bmatrix}x$\n"
      ]
    },
    {
      "cell_type": "code",
      "metadata": {
        "colab": {
          "base_uri": "https://localhost:8080/",
          "height": 337
        },
        "id": "xWe6kqE6ivqe",
        "outputId": "93d328f6-753b-47f3-e65e-47fe269193bb"
      },
      "source": [
        "N = 100\r\n",
        "x = np.random.randn(2,N)\r\n",
        "print(x.shape)\r\n",
        "A = np.matrix([[1,3]])\r\n",
        "print(A.shape)\r\n",
        "y= np.dot(A,x)\r\n",
        "print(y.shape)\r\n",
        "plt.plot(y.T,np.zeros_like(y.T),'.')\r\n",
        "#plt.plot(A,np.zeros_like(A),'.')"
      ],
      "execution_count": 48,
      "outputs": [
        {
          "output_type": "stream",
          "text": [
            "(2, 100)\n",
            "(1, 2)\n",
            "(1, 100)\n"
          ],
          "name": "stdout"
        },
        {
          "output_type": "execute_result",
          "data": {
            "text/plain": [
              "[<matplotlib.lines.Line2D at 0x7efdc20c6a10>]"
            ]
          },
          "metadata": {
            "tags": []
          },
          "execution_count": 48
        },
        {
          "output_type": "display_data",
          "data": {
            "image/png": "[encoded data removed]",
            "text/plain": [
              "<Figure size 432x288 with 1 Axes>"
            ]
          },
          "metadata": {
            "tags": [],
            "needs_background": "light"
          }
        }
      ]
    },
    {
      "cell_type": "markdown",
      "metadata": {
        "id": "xHNRVkD9MdPS"
      },
      "source": [
        "## Special case: m = n = 2\n",
        "\n",
        "For this case, both the input and output are 2D vectors:\n",
        "\n",
        "$\\begin{bmatrix} y_{1}\\\\  y_{2} \\end{bmatrix} = \\begin{bmatrix}\n",
        "a & b \\\\ c & d  \\end{bmatrix} \\begin{bmatrix} x_{1}\\\\  x_{2} \\end{bmatrix}$\n",
        "\n",
        "Solving for $x_{2}$ (and assuming $b \\neq 0$), we can write:\n",
        "\n",
        "$y_{2} = \\frac{d}{b}y_{1} + x_{1}(c - \\frac{ad}{b})$\n",
        "\n",
        "Notice that in this case if we have $c - \\frac{ad}{b} = 0$, then $y_{2} = \\frac{d}{b}y_{1}$. In this case we have a situation very similar to the case $m = 2, n = 1$. That is, even though the output is 2D, $y_{1}$ and $y_{2}$ are dependent on each other."
      ]
    },
    {
      "cell_type": "markdown",
      "metadata": {
        "id": "ATIHpc5xMdPT"
      },
      "source": [
        "## Not random input example"
      ]
    },
    {
      "cell_type": "code",
      "metadata": {
        "id": "TFdFS5h3MdPT"
      },
      "source": [
        "A = np.array([[10,2], \n",
        "              [10,10]])\n",
        "\n",
        "N = 100                  # Number of measurements\n",
        "#x = np.random.randn(N,2)   # a bunch of measurements in inches\n",
        "x1 = np.vstack(( 0*np.ones(N).T+np.random.randn(N).T, np.random.randn(N).T))\n",
        "y1 = np.dot(A.T, x1).T\n",
        "x2 = np.vstack((0*2*np.ones(N)+np.random.randn(N).T, np.random.randn(N).T))\n",
        "y2 = np.dot(A.T, x2).T"
      ],
      "execution_count": 74,
      "outputs": []
    },
    {
      "cell_type": "code",
      "metadata": {
        "colab": {
          "base_uri": "https://localhost:8080/"
        },
        "id": "RzAZ-okgMdPT",
        "outputId": "6fa4fe3f-840e-4fcd-f335-c7329af6c726"
      },
      "source": [
        "print(x1.shape)\r\n",
        "x1[:,:3]"
      ],
      "execution_count": 75,
      "outputs": [
        {
          "output_type": "stream",
          "text": [
            "(2, 100)\n"
          ],
          "name": "stdout"
        },
        {
          "output_type": "execute_result",
          "data": {
            "text/plain": [
              "array([[ 0.11849907, -0.22325451,  0.15519183],\n",
              "       [ 0.30821788, -0.09109292,  0.02086407]])"
            ]
          },
          "metadata": {
            "tags": []
          },
          "execution_count": 75
        }
      ]
    },
    {
      "cell_type": "code",
      "metadata": {
        "colab": {
          "base_uri": "https://localhost:8080/"
        },
        "id": "eFOCc4McMdPU",
        "outputId": "d7406977-b213-4093-e919-9cb89a423c8b"
      },
      "source": [
        "x2[:,:3]"
      ],
      "execution_count": 76,
      "outputs": [
        {
          "output_type": "execute_result",
          "data": {
            "text/plain": [
              "array([[ 0.47647366,  0.10169428,  0.36888325],\n",
              "       [ 1.71778149,  0.15800512, -2.04429418]])"
            ]
          },
          "metadata": {
            "tags": []
          },
          "execution_count": 76
        }
      ]
    },
    {
      "cell_type": "code",
      "metadata": {
        "colab": {
          "base_uri": "https://localhost:8080/",
          "height": 314
        },
        "id": "2TgZQM8VMdPU",
        "outputId": "8e04140d-30e6-44cc-8802-063844fa9a5d"
      },
      "source": [
        "\n",
        "\n",
        "plt.figure(figsize=(16, 4))\n",
        "plt.subplot(1,2,1)\n",
        "plt.plot(x1[0,:], x1[1,:], '.')\n",
        "plt.plot(x2[0,:], x2[1,:], '.')\n",
        "plt.title(\"The input to the linear machine\")\n",
        "plt.xlabel(\"$x_{1}$\")\n",
        "plt.xlabel(\"$x_{2}$\")\n",
        "\n",
        "\n",
        "plt.subplot(1,2,2)\n",
        "plt.plot(y1[:,0], y1[:,1], '.')\n",
        "plt.plot(y2[:,0], y2[:,1], '.')\n",
        "plt.title(\"The output of the linear machine\")\n",
        "plt.xlabel(\"$y_{1}$\")\n",
        "plt.xlabel(\"$y_{2}$\")"
      ],
      "execution_count": 77,
      "outputs": [
        {
          "output_type": "execute_result",
          "data": {
            "text/plain": [
              "Text(0.5,0,'$y_{2}$')"
            ]
          },
          "metadata": {
            "tags": []
          },
          "execution_count": 77
        },
        {
          "output_type": "display_data",
          "data": {
            "image/png": "[encoded data removed]",
            "text/plain": [
              "<Figure size 1152x288 with 2 Axes>"
            ]
          },
          "metadata": {
            "tags": [],
            "needs_background": "light"
          }
        }
      ]
    },
    {
      "cell_type": "markdown",
      "metadata": {
        "id": "dmSPqcHxMdPV"
      },
      "source": [
        "To formalize and better understand what happens in the case $m,n > 2$ we need a vocaubulary and set of definitions to be able to desecribe what happens in high dimensional spaces. \n",
        "- sets\n",
        "- vector spaces, subspaces\n",
        "- linear independent set of vectors\n",
        "- basis set\n",
        "- norms and inner products\n",
        " \n",
        "\n",
        "## Sets \n",
        "\n",
        "**Defintion of Set $S$:** a collection of items that we refer to as the set $S$    \n",
        "  - **Important**: We assume that set also includes the emtpy set \n",
        "  \n",
        "**Examples:**\n",
        " - $S_{1} = \\mathbb{R}$ (read as: the set of all real numbbers)\n",
        " - $S_{2} = \\{x | x \\in \\mathbb{R}, x > 0$\\} (read as: the set of reals that are positive)\n",
        " - $S_{3} = \\{(x_{1}, \\ldots, x_{n}) | x_{1}, \\ldots, x_{n} \\in \\mathbb{R}, \\Sigma_{i=1}^{n}x_{i}^{2}< 1$\\}\n",
        " - $S_{4}$ = \\{Heads, Tails\\} (read as: the set of either heads or tails\n",
        " \n",
        "Notice that each of these sets can have different properties. In what follows, we try to narrow the range of sets to be of a very specific type: the vector space.\n",
        " \n",
        "\n",
        "## Vector space\n",
        "\n",
        "\n",
        "\n",
        "**Defintion relevant for matrices and linear algebra:**\n",
        "\n",
        "\n",
        "A vector space over $\\mathbb{R}^{n}$ is a set $V$ together with two operations that satisfy the eight axioms listed below.\n",
        "\n",
        "\n",
        "- **Addition** $+ : V \\times V \\rightarrow V$, takes any two vectors $v, w$ and assigns them to a third vector which is commonly written as $z = v + w$ with $z \\in V$ \n",
        "\n",
        "- **Scalar multiplication:** $\\cdot : \\mathbb{R} \\times V \\rightarrow V$, takes any scalar $c \\in \\mathbb{R}$ and any vector $v \\in V$ and gives another vector $cv \\in V$\n",
        "\n",
        "\n",
        "\n",
        "To qualify as a vector space, the set $V$ and the operations of addition and multiplication must adhere to a number of requirements called axioms. In the list below, let $\\mathbf{u}$, $\\mathbf{v}$ and $\\mathbf{w}$ be arbitrary vectors in $V$, and $a$ and $b$ scalars in $\\mathbb{R}$:\n",
        "\n",
        "\n",
        "\n",
        "- **Associativity of addition**: $\\mathbf{u + (v + w) = (u + v) + w}$\n",
        "- **Commutativity of addition**: $\\mathbf{u + v = v + u}$\n",
        "- **Identity element of addition**: There exists an element $\\mathbf{0} \\in V$, such that $\\mathbf{v + 0 = v}$ for all $\\mathbf{v} \\in V$\n",
        "- **Inverse elements of addition**: For every $\\mathbf{v} \\in V$, there exists an element $-\\mathbf{v} \\in V$, called the *additive inverse* of $\\mathbf{v}$, such that $\\mathbf{v + \\left(-v\\right) = 0}$\n",
        "- **Compatibility of scalar multiplication with field multiplication** $a\\left(b\\mathbf{v}\\right) = \\left(ab\\right)\\mathbf{v}$\n",
        "- **Identity element of scalar multiplication**: $\\mathbf{Iv = v}$, where $\\mathbf{I}$ denotes the multiplicative identity in $F$.\n",
        "- **Distributivity of scalar multiplication with respect to vector addition**: $a\\left(\\mathbf{u + v}\\right) = a\\mathbf{u} + a\\mathbf{v}$\n",
        "- **Distributivity of scalar multiplication with respect to scalar addition**: $\\left(a + b\\right)\\mathbf{v} = a\\mathbf{v} + b\\mathbf{v}$\n",
        "\n",
        "\n",
        "\n",
        "\n",
        "## Examples of failed vector spaces\n",
        " \n",
        "**Example 1:** a convex subgraph  "
      ]
    },
    {
      "cell_type": "code",
      "metadata": {
        "id": "lCH38_sDMdPV",
        "outputId": "2802e762-3ca3-4178-c7d0-828f81f2e476"
      },
      "source": [
        "display(HTML('''<img src=\"./imgs/lecture-1/convex_subgraph.png\" alt=\"Drawing\" style=\"width: 200px;\"/, align = \"left\">  '''))"
      ],
      "execution_count": null,
      "outputs": [
        {
          "output_type": "display_data",
          "data": {
            "text/html": [
              "<img src=\"./imgs/lecture-1/convex_subgraph.png\" alt=\"Drawing\" style=\"width: 200px;\"/, align = \"left\">  "
            ],
            "text/plain": [
              "<IPython.core.display.HTML object>"
            ]
          },
          "metadata": {
            "tags": []
          }
        }
      ]
    },
    {
      "cell_type": "markdown",
      "metadata": {
        "id": "vtJjY0J8MdPW"
      },
      "source": [
        "**Example 2:** a unit disk  \n",
        "\n",
        "\n",
        "<img src=\"./imgs/lecture-1/unit_disc.png\" alt=\"Drawing\" style=\"width: 200px;\"/, align = \"left\">"
      ]
    },
    {
      "cell_type": "code",
      "metadata": {
        "id": "5l49eJi6MdPW",
        "outputId": "ddce402e-55e8-419a-f2f9-e6d7d0375880"
      },
      "source": [
        "display(HTML('''<img src=\"./imgs/lecture-1/unit_disc.png\" alt=\"Drawing\" style=\"width: 200px;\"/, align = \"left\">'''))"
      ],
      "execution_count": null,
      "outputs": [
        {
          "output_type": "display_data",
          "data": {
            "text/html": [
              "<img src=\"./imgs/lecture-1/unit_disc.png\" alt=\"Drawing\" style=\"width: 200px;\"/, align = \"left\">"
            ],
            "text/plain": [
              "<IPython.core.display.HTML object>"
            ]
          },
          "metadata": {
            "tags": []
          }
        }
      ]
    },
    {
      "cell_type": "markdown",
      "metadata": {
        "id": "6ZnmKHhoMdPX"
      },
      "source": [
        "## Examples of actual vector spaces\n",
        "\n",
        "- $\\mathbb{R}$\n",
        "- $\\mathbb{R}^{n}$\n",
        "- $\\mathbb{R}^{m\\times n}$"
      ]
    },
    {
      "cell_type": "markdown",
      "metadata": {
        "id": "KlOnMNfcMdPX"
      },
      "source": [
        "# Subspace\n",
        "Let $V$ be a vector space over $\\mathbb{R}^{n}$, and let $W$ be a subset of $V$. Then $W$ is a **subspace** if:\n",
        "\n",
        " - The zero vector $\\mathbf{0}$, is in $W$.\n",
        " - If $\\mathbf{u}$ and $\\mathbf{v}$ are elements of $W$, then the sum $\\mathbf{u} + \\mathbf{v}$ is an element of $W$.\n",
        " - If $\\mathbf{u}$ is an element of $W$ and $c \\in \\mathbb{R}$, then the scalar product $c\\mathbf{u}$ is an element of $W$.\n",
        "\n",
        "## Examples of legitimate subspaces:\n",
        "\n",
        "- hyperplanes crossing the origin "
      ]
    },
    {
      "cell_type": "code",
      "metadata": {
        "id": "M6RLu2jsMdPY",
        "outputId": "6c6b849d-a600-4c02-b906-ef72938620f2"
      },
      "source": [
        "display(HTML('''<img src=\"./imgs/lecture-1/line_origin.png\" alt=\"Drawing\" style=\"width: 200px;\"/, align = \"left\">'''))"
      ],
      "execution_count": null,
      "outputs": [
        {
          "output_type": "display_data",
          "data": {
            "text/html": [
              "<img src=\"./imgs/lecture-1/line_origin.png\" alt=\"Drawing\" style=\"width: 200px;\"/, align = \"left\">"
            ],
            "text/plain": [
              "<IPython.core.display.HTML object>"
            ]
          },
          "metadata": {
            "tags": []
          }
        }
      ]
    },
    {
      "cell_type": "markdown",
      "metadata": {
        "id": "BSmT1WpKMdPZ"
      },
      "source": [
        "## Examples of failed subspaces:"
      ]
    },
    {
      "cell_type": "code",
      "metadata": {
        "id": "cuGpBBrLMdPZ",
        "outputId": "62d15f63-cad3-4f44-af3b-32c74b23b018"
      },
      "source": [
        "display(HTML('''<img src=\"./imgs/lecture-1/line_intercept.png\" alt=\"Drawing\" style=\"width: 200px;\"/, align = \"left\">'''))"
      ],
      "execution_count": null,
      "outputs": [
        {
          "output_type": "display_data",
          "data": {
            "text/html": [
              "<img src=\"./imgs/lecture-1/line_intercept.png\" alt=\"Drawing\" style=\"width: 200px;\"/, align = \"left\">"
            ],
            "text/plain": [
              "<IPython.core.display.HTML object>"
            ]
          },
          "metadata": {
            "tags": []
          }
        }
      ]
    },
    {
      "cell_type": "code",
      "metadata": {
        "id": "6DzQ1mVwMdPZ",
        "outputId": "e536d46b-f0c7-436d-af56-cd21da8d6da5"
      },
      "source": [
        "display(HTML('''<img src=\"./imgs/lecture-1/quad.png\" alt=\"Drawing\" style=\"width: 200px;\"/, align = \"left\">'''))"
      ],
      "execution_count": null,
      "outputs": [
        {
          "output_type": "display_data",
          "data": {
            "text/html": [
              "<img src=\"./imgs/lecture-1/quad.png\" alt=\"Drawing\" style=\"width: 200px;\"/, align = \"left\">"
            ],
            "text/plain": [
              "<IPython.core.display.HTML object>"
            ]
          },
          "metadata": {
            "tags": []
          }
        }
      ]
    },
    {
      "cell_type": "markdown",
      "metadata": {
        "id": "pe6O5A1UMdPa"
      },
      "source": [
        "## Example subspace: Range Space of a matrix $A$\n",
        "\n",
        "**Definition**: For a matrix $A \\in \\mathbb{R}^{m\\times n}$, the *Range Space* of A is defined as: \n",
        "\n",
        "$\\qquad\\qquad\\qquad\\qquad\\qquad R(A) = \\{y \\in \\mathbb{R}^{m} : y = Ax \\text{ for } x \\in \\mathbb{R}^{n}\\}$\n",
        "\n",
        "Equivalently, we can express the Range Space as: \n",
        "\n",
        "$\\qquad\\qquad\\qquad\\qquad\\qquad R(A) = \\{Ax : x \\in \\mathbb{R}^{n}\\}$\n",
        "\n",
        "- Someimtes the Range Space of $A$ is also called the *image* of $A$\n",
        "- Viewing matrix-vector multiplication as a linear combination of the columns of A is useful for understanding range space\n",
        "\n",
        "### Example: \n",
        "\n",
        "$\\qquad\\begin{bmatrix}y_{1} \\\\y_{2} \\end{bmatrix} = \\begin{bmatrix}a_{1} \\\\a_{2} \\end{bmatrix}x$\n",
        "\n",
        "- What is the range space of this matrix?\n",
        "- Is a range space a subspace?\n",
        "\n",
        "\n",
        "## Example subspace: Null space of a matrix $A$\n",
        "\n",
        "**Definition**: For a matrix $A \\in \\mathbb{R}^{m\\times n}$, the *Range Space* of A is defined as: \n",
        "\n",
        "$\\qquad\\qquad\\qquad\\qquad\\qquad R(A) = \\{x \\in \\mathbb{R}^{n} : Ax = 0\\}$\n",
        "\n",
        "Equivalently, we can express the Range Space as: \n",
        "\n",
        "$\\qquad\\qquad\\qquad\\qquad\\qquad R(A) = \\{Ax : x \\in \\mathbb{R}^{n}\\}$\n",
        "\n",
        "- Someimtes the Null Space of $A$ is also called the *kernel* of $A$\n",
        "- Viewing matrix-vector multiplication as a projections onto the rows of A is useful for understanding range space\n",
        "\n",
        "### Example: \n",
        "\n",
        "$\\qquad y = \\begin{bmatrix}a_{1} & a_{2} \\end{bmatrix}x$\n",
        "\n",
        "- What is the null space of this matrix?\n",
        "- Is the null space a subspace?"
      ]
    },
    {
      "cell_type": "markdown",
      "metadata": {
        "id": "tJTLg-pXMdPa"
      },
      "source": [
        "## Linear independent set\n",
        "\n",
        "**Definition:**\n",
        "The vectors in a set $T=\\{v_{1},v_{2},\\ldots,v_{k}\\}$ are *linearly independent* if the equation\n",
        "\n",
        "$\\qquad\\qquad\\qquad\\qquad\\qquad\\qquad\\qquad\\qquad\\qquad a_1v_1 + a_2v_2 + \\cdots +a_kv_k = 0$ \n",
        "\n",
        "$\\qquad\\qquad$can only be satisfied by ${\\displaystyle a_{i}=0}$ for $i = 1,\\ldots,n$. \n",
        "\n",
        "- This implies that no vector in the set can be represented as a linear combination of the remaining vectors in the set. \n",
        "- A set of vectors is linearly independent if the only representations of $0$ as a linear combination of its vectors is the trivial representation in which all the scalars $a_i$ are zero.\n",
        "- If not all of the scalars are zero, then at least one is non-zero, say $a_1$, in which case this equation can be written in the form\n",
        "\n",
        "$v_1 = \\frac{-a_2}{a_1}v_2 + \\cdots + \\frac{-a_k}{a_1}v_k.$\n",
        "- Thus, $v_1$ is shown to be a linear combination of the remaining vectors.\n",
        "\n",
        "## Example of linear dependence and independence \n",
        "When are these two vectors independent? Dependent?\n",
        "\n",
        "<img src=\"\"./imgs/lecture-1/independent_vectors.png\" alt=\"Drawing\" style=\"width: 200px;\"/, align = \"left\">\n",
        "\n"
      ]
    },
    {
      "cell_type": "markdown",
      "metadata": {
        "id": "yDCbVjTWMdPb"
      },
      "source": [
        "To show that two vectors $x_{1}$ and $x_{2}$ are linearly independent, we want to know if there exists $\\alpha_{1} \\neq 0$ and $\\alpha_{2} \\neq 0$ so that:\n",
        "\n",
        "$\\alpha_{1}x_{1} + \\alpha_{2}x_{2} \\stackrel{?}{=} 0$\n",
        "\n",
        "$\\frac{\\alpha_{1}}{\\alpha_{2}}x_{1} + x_{2} \\stackrel{?}{=} 0$"
      ]
    },
    {
      "cell_type": "markdown",
      "metadata": {
        "id": "_tPEKMXhMdPb"
      },
      "source": [
        "# Basis set\n",
        "\n",
        "**Definition:**\n",
        "\n",
        "\n",
        "A **basis** $B$ of a vector space $V$ over $\\mathbb{R}^{n}$ is a linearly independent subset of $V$ that spans $V$.\n",
        "\n",
        "That is, suppose that $B = \\{v_1,\\ldots,v_n\\}$ is a finite subset of a vector space $V$. Then $B$ is a basis if it satisfies the following conditions:\n",
        "\n",
        "\n",
        "- **linear independence property**: for all $a_1,\\ldots,a_n \\in \\mathbb{R}^{n}$, if ${a_1}{v_1} + \\ldots + {a_n}{v_n} = 0$, then necessarily $a_1 = \\ldots = a_n = 0$\n",
        "- **spanning property**: for every (vector) $x \\in V$ it is possible to choose $a_1,\\ldots,a_n \\in \\mathbb{R}^{n}$ such that $x = {a_1}{v_1} + \\ldots + {a_n}{v_n}$.\n",
        "\n",
        "The numbers $a_i$ are called the coordinates of the vector $x$ with respect to the basis $B$, and by the first property they are uniquely determined.\n",
        "\n"
      ]
    },
    {
      "cell_type": "markdown",
      "metadata": {
        "id": "n3K92wKMMdPb"
      },
      "source": [
        "<img src=\"\"./imgs/lecture-1/three_vectors.gif\" alt=\"Drawing\" style=\"width: 200px;\"/, align = \"left\">"
      ]
    },
    {
      "cell_type": "markdown",
      "metadata": {
        "id": "TDdRwxbFMdPc"
      },
      "source": [
        "# Linear independence and basis example\n",
        "\n",
        "$\\alpha_{1}x_{1} + \\alpha_{2}x_{2} + \\alpha_{3}x_{3} \\stackrel{?}{=} 0$\n",
        "\n",
        "$\\hat{\\alpha_{2}}\\hat{x_{2}} := \\alpha_{2}x_{2} + \\alpha_{3}x_{3}$\n",
        "\n",
        "$\\alpha_{1}x_{1} + \\hat{\\alpha_{2}}\\hat{x_{2}} \\stackrel{?}{=} 0$"
      ]
    },
    {
      "cell_type": "markdown",
      "metadata": {
        "id": "PrdA8QhBMdPc"
      },
      "source": [
        "## The norm\n",
        "\n",
        "**Definition**: a way to measure the \"size\" or \"magnitude\" of a vector.\n",
        "\n",
        "Given a vector space $V$ over $\\mathbb{R}^{n}$, a **norm** on $V$ is a *function* $p: V\\rightarrow \\mathbf{R}$ with the following properties:\n",
        "\n",
        "For all, $a \\in \\mathbb{R}$ and all $\\mathbf{u}, \\mathbf{v} \\in V$,\n",
        "\n",
        "\n",
        "- $p\\left(a\\mathbf{v}\\right) = \\left|a\\right|\\, p\\left(\\mathbf{v}\\right)$ \n",
        "- $p\\left(\\mathbf{u} + \\mathbf{v}\\right) \\leq p\\left(\\mathbf{u}\\right) +p\\left(\\mathbf{v}\\right)$ \n",
        "- $p\\left(\\mathbf{v}\\right) \\geq 0$ \n",
        "- If $p\\left(\\mathbf{v}\\right) = 0$ then $\\mathbf{v = 0}$ is the zero vector \n",
        "\n",
        "**Example:** the LP norm\n",
        "\n",
        "$\\displaystyle {\\| x \\|}_p = {\\Bigl(\\sum^{n}_{i=1} {\\bigl|x_i\\bigr|}^p \\Bigr)}^\\frac{1}{p}\\qquad x \\in \\mathbb{R}^{n}, p \\geq 1$\n",
        "\n",
        "<img src=\"\"./imgs/lecture-1/vector_norms.png\" alt=\"Drawing\" style=\"width: 140px;\"/, align = \"left\">"
      ]
    },
    {
      "cell_type": "markdown",
      "metadata": {
        "id": "SYLRXL50MdPd"
      },
      "source": [
        "## Example: distances in high dimensions"
      ]
    },
    {
      "cell_type": "code",
      "metadata": {
        "collapsed": true,
        "id": "WcGQGkJcMdPd"
      },
      "source": [
        "from scipy.spatial.distance import pdist, squareform\n",
        "\n",
        "def farthest_to_nearest_neighbors(dim, N = 1000):\n",
        "    x = np.random.randn(dim,N)\n",
        "    #x, _ = make_blobs(n_samples=N, centers=2, n_features=dim, random_state=0, cluster_std=10)\n",
        "    #x = x.T\n",
        "    d = pdist(x.T, 'euclidean')\n",
        "    r = np.max(d)/np.min(d)\n",
        "    return r"
      ],
      "execution_count": 78,
      "outputs": []
    },
    {
      "cell_type": "code",
      "metadata": {
        "colab": {
          "base_uri": "https://localhost:8080/"
        },
        "id": "I2jWJy2SMdPd",
        "outputId": "0b86d4f6-c205-466b-8177-0776733e63cb"
      },
      "source": [
        "%%time\n",
        "r_s = []\n",
        "for input_dim in range(2,200):\n",
        "    r_s.append(farthest_to_nearest_neighbors(input_dim))"
      ],
      "execution_count": 79,
      "outputs": [
        {
          "output_type": "stream",
          "text": [
            "CPU times: user 8.3 s, sys: 9.18 ms, total: 8.31 s\n",
            "Wall time: 8.34 s\n"
          ],
          "name": "stdout"
        }
      ]
    },
    {
      "cell_type": "code",
      "metadata": {
        "colab": {
          "base_uri": "https://localhost:8080/",
          "height": 286
        },
        "id": "xhG3KKSpMdPe",
        "outputId": "4d6a3d96-3b10-4466-d4a3-28f3780845db"
      },
      "source": [
        "plt.plot(range(2,200), r_s)\n",
        "plt.semilogy()"
      ],
      "execution_count": 82,
      "outputs": [
        {
          "output_type": "execute_result",
          "data": {
            "text/plain": [
              "[]"
            ]
          },
          "metadata": {
            "tags": []
          },
          "execution_count": 82
        },
        {
          "output_type": "display_data",
          "data": {
            "image/png": "[encoded data removed]",
            "text/plain": [
              "<Figure size 432x288 with 1 Axes>"
            ]
          },
          "metadata": {
            "tags": [],
            "needs_background": "light"
          }
        }
      ]
    },
    {
      "cell_type": "markdown",
      "metadata": {
        "id": "lSLUWOpEMdPf"
      },
      "source": [
        "## Inner product space\n",
        "\n",
        "**Definition:**\n",
        "An inner product space is a vector space $V$ over $\\mathbb{R}^{n}$ together with an *inner product*, i.e., with a map or function\n",
        "\n",
        "\n",
        "$\\langle \\cdot , \\cdot \\rangle : V \\times V \\rightarrow \\mathbb{R}$\n",
        "\n",
        "That is, when we take two elements from $V$, the inner product is a function that maps to $\\mathbb{R}$ and satisfies the following three axioms for all vectors $x,y,z \\in V$ and all scalars $a \\in \\mathbb{R}$:\n",
        "\n",
        "\n",
        "- Conjugate symmetry: $\\langle x,y \\rangle = \\overline{\\langle y,x \\rangle}$\n",
        "- Linearity in the first argument: $\\langle ax,y \\rangle = a\\langle x,y \\rangle\\\\\n",
        "\\langle x+y,z \\rangle = \\langle x,z \\rangle + \\langle y,z \\rangle$\n",
        "- Positive-definiteness: $\\langle x,x \\rangle \\geq 0\\\\\n",
        "\\langle x,x \\rangle = 0 \\Leftrightarrow x = \\mathbf{0}.$"
      ]
    },
    {
      "cell_type": "markdown",
      "metadata": {
        "collapsed": true,
        "id": "yvZhk_zmMdPf"
      },
      "source": [
        "## Norms and inner products\n",
        "\n",
        "The inner product and norm can be related as\n",
        "$\\| x \\| = \\sqrt{\\langle x,x \\rangle}$\n",
        "\n",
        "\n",
        "- **Cauchy-Schwarz inequality:** $\\big|\\langle x,y \\rangle \\big| \\leq \\big\\|x\\big\\| \\cdot \\big\\|y\\big\\|$ for $x, y, \\in V$ with equality if and only if $x$ and $y$ are linearly independent. \n",
        "\n",
        "- **Angle:** $\\mathrm{angle}\\left(x,y\\right) = \\arccos \\frac{\\langle x,y \\rangle}{\\|x\\| \\cdot \\|y\\|}.$ We assume the value of the angle is chosen to be in the interval [$0,\\pi$]. This is in analogy to the situation in two-dimensional Euclidean space.\n",
        "\n",
        "- **Orthogonality:** We will say that non-zero vectors $x$ and $y$ of $V$ are orthogonal if and only if their inner product is zero.\n",
        "- **Homogeneity:** $\\|c \\cdot x\\| = |c| \\cdot \\|x\\|$ for $x \\in V$ and $c \\in \\mathbb{R}$ \n",
        "\n",
        "\n",
        "\n",
        "- **Triangle inequality:** $\\|x+y\\| \\leq \\|x\\| + \\|y\\|.$ for $x,y$ elements of $v$\n",
        "\n",
        "\n"
      ]
    },
    {
      "cell_type": "markdown",
      "metadata": {
        "id": "luFH8A-IMdPf"
      },
      "source": [
        "## \"Deep\" linear machine"
      ]
    },
    {
      "cell_type": "code",
      "metadata": {
        "scrolled": false,
        "colab": {
          "base_uri": "https://localhost:8080/",
          "height": 488
        },
        "id": "J_gTE2b2MdPg",
        "outputId": "9297dff3-5369-4b29-ac40-deb71598a180"
      },
      "source": [
        "np.random.seed(11)\n",
        "\n",
        "def linear_machine(input_dim, output_dim = 2, N = 100, depth = 2, input_data = None): \n",
        "    x = np.random.randn(input_dim,N)\n",
        "    B = np.random.randn(input_dim,input_dim)\n",
        "    A = np.random.randn(output_dim,input_dim)\n",
        "    print(A)\n",
        "    print(B)\n",
        "\n",
        "    if depth > 0:\n",
        "        z = np.dot(B,x)\n",
        "        for i in range(depth-1):\n",
        "            z = np.dot(B,z)\n",
        "        y = np.dot(A,z)\n",
        "    else:\n",
        "        y = np.dot(A,x)\n",
        "\n",
        "    return y.T\n",
        "\n",
        "\n",
        "plt.figure(figsize=(6, 6))\n",
        "\n",
        "num_layers = 1000\n",
        "y = linear_machine(input_dim = 2, depth = num_layers)\n",
        "plt.plot(y[:,0], y[:,1], '.')\n",
        "plt.title(\"The output of the linear machine for depth \" + str(num_layers))\n"
      ],
      "execution_count": 115,
      "outputs": [
        {
          "output_type": "stream",
          "text": [
            "[[ 1.16250551 -1.37885871]\n",
            " [-0.92399568 -1.29751339]]\n",
            "[[ 1.5980499   1.70372182]\n",
            " [-1.58951989 -0.37724652]]\n"
          ],
          "name": "stdout"
        },
        {
          "output_type": "execute_result",
          "data": {
            "text/plain": [
              "Text(0.5,1,'The output of the linear machine for depth 1000')"
            ]
          },
          "metadata": {
            "tags": []
          },
          "execution_count": 115
        },
        {
          "output_type": "display_data",
          "data": {
            "image/png": "[encoded data removed]",
            "text/plain": [
              "<Figure size 432x432 with 1 Axes>"
            ]
          },
          "metadata": {
            "tags": [],
            "needs_background": "light"
          }
        }
      ]
    },
    {
      "cell_type": "markdown",
      "metadata": {
        "collapsed": true,
        "id": "qNS6h5ivMdPg"
      },
      "source": [
        "# Singular Value Decomposition\n",
        "\n",
        "**Theorem**: Any matrix $M \\in \\mathbb{R}^{m\\times n}$ can be written as:\n",
        "\n",
        "$\\qquad\\qquad\\qquad\\qquad M = U \\Sigma V^{T}$ \n",
        "\n",
        "where $U$ and $V$ are *orthnonormal matrices* and $\\Sigma$ is a *diagonal* matrix.\n",
        "\n",
        "\n",
        "\n",
        "We can think of a matrix $M$ as a linear machine that transforms data from $x \\in \\mathbb{R}^{n}$ to $y \\in \\mathbb{R}^{m}$ as a process of going through three transformations:\n",
        "\n",
        "1. $x$ is projected (or \"expressed\") by the basis set contained in $V$\n",
        "2. The projection is the scaled by the elemnets in the diagnoal matrix $Sigma$\n",
        "3. "
      ]
    },
    {
      "cell_type": "code",
      "metadata": {
        "id": "LJxwvx4-MdPg",
        "outputId": "e3fbb13c-0c27-426e-e235-5a5360efb1f9"
      },
      "source": [
        "display(HTML('''<img src=\"./imgs/lecture-1/svd.png\" alt=\"Drawing\" style=\"width: 400px;\"/ align=\"left\">'''))"
      ],
      "execution_count": null,
      "outputs": [
        {
          "output_type": "display_data",
          "data": {
            "text/html": [
              "<img src=\"./imgs/lecture-1/svd.png\" alt=\"Drawing\" style=\"width: 400px;\"/ align=\"left\">"
            ],
            "text/plain": [
              "<IPython.core.display.HTML object>"
            ]
          },
          "metadata": {
            "tags": []
          }
        }
      ]
    },
    {
      "cell_type": "code",
      "metadata": {
        "colab": {
          "base_uri": "https://localhost:8080/"
        },
        "id": "sPxiLGObMdPh",
        "outputId": "76c857d0-ebec-41cf-901b-e59b8ac28ecf"
      },
      "source": [
        "np.random.seed(11)\n",
        "A = np.random.randn(2,2)\n",
        "print(A)\n",
        "B = np.random.randn(2,2)\n",
        "print(B)"
      ],
      "execution_count": 110,
      "outputs": [
        {
          "output_type": "stream",
          "text": [
            "[[ 1.74945474 -0.286073  ]\n",
            " [-0.48456513 -2.65331856]]\n",
            "[[-0.00828463 -0.31963136]\n",
            " [-0.53662936  0.31540267]]\n"
          ],
          "name": "stdout"
        }
      ]
    },
    {
      "cell_type": "code",
      "metadata": {
        "colab": {
          "base_uri": "https://localhost:8080/"
        },
        "id": "gJsZRqsKMdPh",
        "outputId": "d1bccd7e-776b-4706-9503-170b2ff80f50"
      },
      "source": [
        "U, s, V = np.linalg.svd(A)\n",
        "print(s.shape)\n",
        "print(s)\n",
        "np.diag(s)"
      ],
      "execution_count": 183,
      "outputs": [
        {
          "output_type": "stream",
          "text": [
            "(2,)\n",
            "[2.69755537 1.77215333]\n"
          ],
          "name": "stdout"
        },
        {
          "output_type": "execute_result",
          "data": {
            "text/plain": [
              "array([[2.69755537, 0.        ],\n",
              "       [0.        , 1.77215333]])"
            ]
          },
          "metadata": {
            "tags": []
          },
          "execution_count": 183
        }
      ]
    },
    {
      "cell_type": "code",
      "metadata": {
        "colab": {
          "base_uri": "https://localhost:8080/"
        },
        "id": "uuJdZ1leMdPi",
        "outputId": "811fb5ce-e210-446f-f87c-5c510c218420"
      },
      "source": [
        "U\r\n",
        "print(U)\r\n",
        "print(np.dot(U,U.T))\r\n",
        "print(np.dot(U.T,U))"
      ],
      "execution_count": 191,
      "outputs": [
        {
          "output_type": "stream",
          "text": [
            "[[-0.02144498  0.99977003]\n",
            " [ 0.99977003  0.02144498]]\n",
            "[[ 1.00000000e+00 -3.35236261e-18]\n",
            " [-3.35236261e-18  1.00000000e+00]]\n",
            "[[1.00000000e+00 2.49795503e-18]\n",
            " [2.49795503e-18 1.00000000e+00]]\n"
          ],
          "name": "stdout"
        }
      ]
    },
    {
      "cell_type": "code",
      "metadata": {
        "colab": {
          "base_uri": "https://localhost:8080/"
        },
        "id": "99_xvDG4MdPi",
        "outputId": "45cd1c94-8b25-4046-a48f-d42f6ae04713"
      },
      "source": [
        "V\r\n",
        "print(V)\r\n",
        "print(np.dot(V,V.T))\r\n",
        "print(np.dot(V.T,V))"
      ],
      "execution_count": 190,
      "outputs": [
        {
          "output_type": "stream",
          "text": [
            "[[-0.19349768 -0.98110073]\n",
            " [ 0.98110073 -0.19349768]]\n",
            "[[1.00000000e+00 1.22581215e-17]\n",
            " [1.22581215e-17 1.00000000e+00]]\n",
            "[[ 1.00000000e+00 -1.22581215e-17]\n",
            " [-1.22581215e-17  1.00000000e+00]]\n"
          ],
          "name": "stdout"
        }
      ]
    },
    {
      "cell_type": "code",
      "metadata": {
        "colab": {
          "base_uri": "https://localhost:8080/"
        },
        "id": "THlpCWt3MdPj",
        "outputId": "33052fc5-34ab-4fdf-9062-a943f1e3dd9a"
      },
      "source": [
        "np.dot(U, np.dot(np.diag(s),V))"
      ],
      "execution_count": 116,
      "outputs": [
        {
          "output_type": "execute_result",
          "data": {
            "text/plain": [
              "array([[ 1.74945474, -0.286073  ],\n",
              "       [-0.48456513, -2.65331856]])"
            ]
          },
          "metadata": {
            "tags": []
          },
          "execution_count": 116
        }
      ]
    },
    {
      "cell_type": "code",
      "metadata": {
        "colab": {
          "base_uri": "https://localhost:8080/",
          "height": 286
        },
        "id": "it3spGoaMdPk",
        "outputId": "cee05833-32d7-4ab6-80b7-f8f081033deb"
      },
      "source": [
        "width = 4\n",
        "height = 4\n",
        "plt.figure(figsize=(width, height))\n",
        "plt.plot([0, V[0,0]], [0,V[0,1]])\n",
        "plt.plot([0,V[1,0]], [0,V[1,1]])\n",
        "plt.xlim([-1,1])\n",
        "plt.ylim([-1,1])"
      ],
      "execution_count": 127,
      "outputs": [
        {
          "output_type": "execute_result",
          "data": {
            "text/plain": [
              "(-1, 1)"
            ]
          },
          "metadata": {
            "tags": []
          },
          "execution_count": 127
        },
        {
          "output_type": "display_data",
          "data": {
            "image/png": "[encoded data removed]",
            "text/plain": [
              "<Figure size 288x288 with 1 Axes>"
            ]
          },
          "metadata": {
            "tags": [],
            "needs_background": "light"
          }
        }
      ]
    },
    {
      "cell_type": "code",
      "metadata": {
        "colab": {
          "base_uri": "https://localhost:8080/",
          "height": 303
        },
        "id": "pRBu7FNBUkJs",
        "outputId": "e9ec94c4-4f5b-4bac-de37-b9e02b1392c4"
      },
      "source": [
        "width = 4\r\n",
        "height = 4\r\n",
        "print(s[1])\r\n",
        "plt.figure(figsize=(width, height))\r\n",
        "#plt.plot([0, s[0]], [0, 0])\r\n",
        "#plt.plot([0, 0], [0, s[1]])\r\n",
        "plt.plot([0,0, s[0]], [0, s[1], 0],\"+\")\r\n",
        "plt.xlim([-4,4])\r\n",
        "plt.ylim([-4,4])"
      ],
      "execution_count": 140,
      "outputs": [
        {
          "output_type": "stream",
          "text": [
            "1.772153331689385\n"
          ],
          "name": "stdout"
        },
        {
          "output_type": "execute_result",
          "data": {
            "text/plain": [
              "(-4, 4)"
            ]
          },
          "metadata": {
            "tags": []
          },
          "execution_count": 140
        },
        {
          "output_type": "display_data",
          "data": {
            "image/png": "[encoded data removed]",
            "text/plain": [
              "<Figure size 288x288 with 1 Axes>"
            ]
          },
          "metadata": {
            "tags": [],
            "needs_background": "light"
          }
        }
      ]
    },
    {
      "cell_type": "code",
      "metadata": {
        "colab": {
          "base_uri": "https://localhost:8080/",
          "height": 286
        },
        "id": "sbch0cHWMdPk",
        "outputId": "3d32e698-104a-46c2-8b44-324fe0e9f4eb"
      },
      "source": [
        "width = 4\n",
        "height = 4\n",
        "plt.figure(figsize=(width, height))\n",
        "plt.plot([0, U[0,0]], [0,U[0,1]])\n",
        "plt.plot([0,U[1,0]], [0,U[1,1]])\n",
        "plt.xlim([-1,1])\n",
        "plt.ylim([-1,1])"
      ],
      "execution_count": 128,
      "outputs": [
        {
          "output_type": "execute_result",
          "data": {
            "text/plain": [
              "(-1, 1)"
            ]
          },
          "metadata": {
            "tags": []
          },
          "execution_count": 128
        },
        {
          "output_type": "display_data",
          "data": {
            "image/png": "[encoded data removed]",
            "text/plain": [
              "<Figure size 288x288 with 1 Axes>"
            ]
          },
          "metadata": {
            "tags": [],
            "needs_background": "light"
          }
        }
      ]
    },
    {
      "cell_type": "code",
      "metadata": {
        "collapsed": true,
        "id": "bkzzqN8lMdPl"
      },
      "source": [
        "## Real world data"
      ],
      "execution_count": 141,
      "outputs": []
    },
    {
      "cell_type": "code",
      "metadata": {
        "collapsed": true,
        "id": "y5tjNHqBMdPl"
      },
      "source": [
        "import pandas as pd"
      ],
      "execution_count": 142,
      "outputs": []
    },
    {
      "cell_type": "code",
      "metadata": {
        "id": "iMAoqcvJMdPl"
      },
      "source": [
        "#df = pd.read_csv(\"./data/trian-har.csv\")\r\n",
        "\r\n",
        "import pandas as pd\r\n",
        "import requests\r\n",
        "import io\r\n",
        "\r\n",
        "url = \"https://raw.githubusercontent.com/hemanthb123/applied-math-for-ML/master/data/trian-har.csv\"\r\n",
        "s = requests.get(url).content\r\n",
        "df=pd.read_csv(io.StringIO(s.decode('utf-8')))\r\n",
        "#df=pd.read_csv(s)\r\n",
        "\r\n",
        "\r\n"
      ],
      "execution_count": 1,
      "outputs": []
    },
    {
      "cell_type": "code",
      "metadata": {
        "colab": {
          "base_uri": "https://localhost:8080/",
          "height": 270
        },
        "id": "DsxRCzaJMdPl",
        "outputId": "c281ede0-150b-42cc-f455-7586ac8796ff"
      },
      "source": [
        "df.head()"
      ],
      "execution_count": 154,
      "outputs": [
        {
          "output_type": "execute_result",
          "data": {
            "text/plain": [
              "   tBodyAcc-mean()-X  tBodyAcc-mean()-Y  tBodyAcc-mean()-Z  tBodyAcc-std()-X  \\\n",
              "0           0.288585          -0.020294          -0.132905         -0.995279   \n",
              "1           0.278419          -0.016411          -0.123520         -0.998245   \n",
              "2           0.279653          -0.019467          -0.113462         -0.995380   \n",
              "3           0.279174          -0.026201          -0.123283         -0.996091   \n",
              "4           0.276629          -0.016570          -0.115362         -0.998139   \n",
              "\n",
              "   tBodyAcc-std()-Y  tBodyAcc-std()-Z  tBodyAcc-mad()-X  tBodyAcc-mad()-Y  \\\n",
              "0         -0.983111         -0.913526         -0.995112         -0.983185   \n",
              "1         -0.975300         -0.960322         -0.998807         -0.974914   \n",
              "2         -0.967187         -0.978944         -0.996520         -0.963668   \n",
              "3         -0.983403         -0.990675         -0.997099         -0.982750   \n",
              "4         -0.980817         -0.990482         -0.998321         -0.979672   \n",
              "\n",
              "   tBodyAcc-mad()-Z  tBodyAcc-max()-X  ...  fBodyBodyGyroJerkMag-kurtosis()  \\\n",
              "0         -0.923527         -0.934724  ...                        -0.710304   \n",
              "1         -0.957686         -0.943068  ...                        -0.861499   \n",
              "2         -0.977469         -0.938692  ...                        -0.760104   \n",
              "3         -0.989302         -0.938692  ...                        -0.482845   \n",
              "4         -0.990441         -0.942469  ...                        -0.699205   \n",
              "\n",
              "   angle(tBodyAccMean,gravity)  angle(tBodyAccJerkMean),gravityMean)  \\\n",
              "0                    -0.112754                              0.030400   \n",
              "1                     0.053477                             -0.007435   \n",
              "2                    -0.118559                              0.177899   \n",
              "3                    -0.036788                             -0.012892   \n",
              "4                     0.123320                              0.122542   \n",
              "\n",
              "   angle(tBodyGyroMean,gravityMean)  angle(tBodyGyroJerkMean,gravityMean)  \\\n",
              "0                         -0.464761                             -0.018446   \n",
              "1                         -0.732626                              0.703511   \n",
              "2                          0.100699                              0.808529   \n",
              "3                          0.640011                             -0.485366   \n",
              "4                          0.693578                             -0.615971   \n",
              "\n",
              "   angle(X,gravityMean)  angle(Y,gravityMean)  angle(Z,gravityMean)  subject  \\\n",
              "0             -0.841247              0.179941             -0.058627        1   \n",
              "1             -0.844788              0.180289             -0.054317        1   \n",
              "2             -0.848933              0.180637             -0.049118        1   \n",
              "3             -0.848649              0.181935             -0.047663        1   \n",
              "4             -0.847865              0.185151             -0.043892        1   \n",
              "\n",
              "   Activity  \n",
              "0  STANDING  \n",
              "1  STANDING  \n",
              "2  STANDING  \n",
              "3  STANDING  \n",
              "4  STANDING  \n",
              "\n",
              "[5 rows x 563 columns]"
            ],
            "text/html": [
              "<div>\n",
              "<style scoped>\n",
              "    .dataframe tbody tr th:only-of-type {\n",
              "        vertical-align: middle;\n",
              "    }\n",
              "\n",
              "    .dataframe tbody tr th {\n",
              "        vertical-align: top;\n",
              "    }\n",
              "\n",
              "    .dataframe thead th {\n",
              "        text-align: right;\n",
              "    }\n",
              "</style>\n",
              "<table border=\"1\" class=\"dataframe\">\n",
              "  <thead>\n",
              "    <tr style=\"text-align: right;\">\n",
              "      <th></th>\n",
              "      <th>tBodyAcc-mean()-X</th>\n",
              "      <th>tBodyAcc-mean()-Y</th>\n",
              "      <th>tBodyAcc-mean()-Z</th>\n",
              "      <th>tBodyAcc-std()-X</th>\n",
              "      <th>tBodyAcc-std()-Y</th>\n",
              "      <th>tBodyAcc-std()-Z</th>\n",
              "      <th>tBodyAcc-mad()-X</th>\n",
              "      <th>tBodyAcc-mad()-Y</th>\n",
              "      <th>tBodyAcc-mad()-Z</th>\n",
              "      <th>tBodyAcc-max()-X</th>\n",
              "      <th>...</th>\n",
              "      <th>fBodyBodyGyroJerkMag-kurtosis()</th>\n",
              "      <th>angle(tBodyAccMean,gravity)</th>\n",
              "      <th>angle(tBodyAccJerkMean),gravityMean)</th>\n",
              "      <th>angle(tBodyGyroMean,gravityMean)</th>\n",
              "      <th>angle(tBodyGyroJerkMean,gravityMean)</th>\n",
              "      <th>angle(X,gravityMean)</th>\n",
              "      <th>angle(Y,gravityMean)</th>\n",
              "      <th>angle(Z,gravityMean)</th>\n",
              "      <th>subject</th>\n",
              "      <th>Activity</th>\n",
              "    </tr>\n",
              "  </thead>\n",
              "  <tbody>\n",
              "    <tr>\n",
              "      <th>0</th>\n",
              "      <td>0.288585</td>\n",
              "      <td>-0.020294</td>\n",
              "      <td>-0.132905</td>\n",
              "      <td>-0.995279</td>\n",
              "      <td>-0.983111</td>\n",
              "      <td>-0.913526</td>\n",
              "      <td>-0.995112</td>\n",
              "      <td>-0.983185</td>\n",
              "      <td>-0.923527</td>\n",
              "      <td>-0.934724</td>\n",
              "      <td>...</td>\n",
              "      <td>-0.710304</td>\n",
              "      <td>-0.112754</td>\n",
              "      <td>0.030400</td>\n",
              "      <td>-0.464761</td>\n",
              "      <td>-0.018446</td>\n",
              "      <td>-0.841247</td>\n",
              "      <td>0.179941</td>\n",
              "      <td>-0.058627</td>\n",
              "      <td>1</td>\n",
              "      <td>STANDING</td>\n",
              "    </tr>\n",
              "    <tr>\n",
              "      <th>1</th>\n",
              "      <td>0.278419</td>\n",
              "      <td>-0.016411</td>\n",
              "      <td>-0.123520</td>\n",
              "      <td>-0.998245</td>\n",
              "      <td>-0.975300</td>\n",
              "      <td>-0.960322</td>\n",
              "      <td>-0.998807</td>\n",
              "      <td>-0.974914</td>\n",
              "      <td>-0.957686</td>\n",
              "      <td>-0.943068</td>\n",
              "      <td>...</td>\n",
              "      <td>-0.861499</td>\n",
              "      <td>0.053477</td>\n",
              "      <td>-0.007435</td>\n",
              "      <td>-0.732626</td>\n",
              "      <td>0.703511</td>\n",
              "      <td>-0.844788</td>\n",
              "      <td>0.180289</td>\n",
              "      <td>-0.054317</td>\n",
              "      <td>1</td>\n",
              "      <td>STANDING</td>\n",
              "    </tr>\n",
              "    <tr>\n",
              "      <th>2</th>\n",
              "      <td>0.279653</td>\n",
              "      <td>-0.019467</td>\n",
              "      <td>-0.113462</td>\n",
              "      <td>-0.995380</td>\n",
              "      <td>-0.967187</td>\n",
              "      <td>-0.978944</td>\n",
              "      <td>-0.996520</td>\n",
              "      <td>-0.963668</td>\n",
              "      <td>-0.977469</td>\n",
              "      <td>-0.938692</td>\n",
              "      <td>...</td>\n",
              "      <td>-0.760104</td>\n",
              "      <td>-0.118559</td>\n",
              "      <td>0.177899</td>\n",
              "      <td>0.100699</td>\n",
              "      <td>0.808529</td>\n",
              "      <td>-0.848933</td>\n",
              "      <td>0.180637</td>\n",
              "      <td>-0.049118</td>\n",
              "      <td>1</td>\n",
              "      <td>STANDING</td>\n",
              "    </tr>\n",
              "    <tr>\n",
              "      <th>3</th>\n",
              "      <td>0.279174</td>\n",
              "      <td>-0.026201</td>\n",
              "      <td>-0.123283</td>\n",
              "      <td>-0.996091</td>\n",
              "      <td>-0.983403</td>\n",
              "      <td>-0.990675</td>\n",
              "      <td>-0.997099</td>\n",
              "      <td>-0.982750</td>\n",
              "      <td>-0.989302</td>\n",
              "      <td>-0.938692</td>\n",
              "      <td>...</td>\n",
              "      <td>-0.482845</td>\n",
              "      <td>-0.036788</td>\n",
              "      <td>-0.012892</td>\n",
              "      <td>0.640011</td>\n",
              "      <td>-0.485366</td>\n",
              "      <td>-0.848649</td>\n",
              "      <td>0.181935</td>\n",
              "      <td>-0.047663</td>\n",
              "      <td>1</td>\n",
              "      <td>STANDING</td>\n",
              "    </tr>\n",
              "    <tr>\n",
              "      <th>4</th>\n",
              "      <td>0.276629</td>\n",
              "      <td>-0.016570</td>\n",
              "      <td>-0.115362</td>\n",
              "      <td>-0.998139</td>\n",
              "      <td>-0.980817</td>\n",
              "      <td>-0.990482</td>\n",
              "      <td>-0.998321</td>\n",
              "      <td>-0.979672</td>\n",
              "      <td>-0.990441</td>\n",
              "      <td>-0.942469</td>\n",
              "      <td>...</td>\n",
              "      <td>-0.699205</td>\n",
              "      <td>0.123320</td>\n",
              "      <td>0.122542</td>\n",
              "      <td>0.693578</td>\n",
              "      <td>-0.615971</td>\n",
              "      <td>-0.847865</td>\n",
              "      <td>0.185151</td>\n",
              "      <td>-0.043892</td>\n",
              "      <td>1</td>\n",
              "      <td>STANDING</td>\n",
              "    </tr>\n",
              "  </tbody>\n",
              "</table>\n",
              "<p>5 rows × 563 columns</p>\n",
              "</div>"
            ]
          },
          "metadata": {
            "tags": []
          },
          "execution_count": 154
        }
      ]
    },
    {
      "cell_type": "code",
      "metadata": {
        "collapsed": true,
        "id": "4L3DL45LMdPm"
      },
      "source": [
        "df_subject = df[df.subject == 1]"
      ],
      "execution_count": 155,
      "outputs": []
    },
    {
      "cell_type": "code",
      "metadata": {
        "colab": {
          "base_uri": "https://localhost:8080/"
        },
        "id": "tFuyJMKrMdPm",
        "outputId": "ac1aca19-0a08-4d7b-be95-d2e9614b8e86"
      },
      "source": [
        "data = np.array(df_subject.iloc[:,:-2])\r\n",
        "print(data[:4,:])\r\n",
        "print(data.shape)"
      ],
      "execution_count": 160,
      "outputs": [
        {
          "output_type": "stream",
          "text": [
            "[[ 0.28858451 -0.02029417 -0.13290514 ... -0.84124676  0.17994061\n",
            "  -0.05862692]\n",
            " [ 0.27841883 -0.01641057 -0.12352019 ... -0.8447876   0.18028889\n",
            "  -0.05431672]\n",
            " [ 0.27965306 -0.01946716 -0.11346169 ... -0.84893347  0.18063731\n",
            "  -0.04911782]\n",
            " [ 0.27917394 -0.02620065 -0.12328257 ... -0.84864938  0.18193476\n",
            "  -0.04766318]]\n",
            "(347, 561)\n"
          ],
          "name": "stdout"
        }
      ]
    },
    {
      "cell_type": "code",
      "metadata": {
        "collapsed": true,
        "id": "46oWGoKtMdPn"
      },
      "source": [
        "U, s, V = np.linalg.svd(data)"
      ],
      "execution_count": 157,
      "outputs": []
    },
    {
      "cell_type": "code",
      "metadata": {
        "colab": {
          "base_uri": "https://localhost:8080/",
          "height": 286
        },
        "id": "kfUQWl76MdPn",
        "outputId": "1fc5dfb3-0493-481b-f3bb-2043f8c24e05"
      },
      "source": [
        "plt.plot(s)\n",
        "plt.semilogy()"
      ],
      "execution_count": 158,
      "outputs": [
        {
          "output_type": "execute_result",
          "data": {
            "text/plain": [
              "[]"
            ]
          },
          "metadata": {
            "tags": []
          },
          "execution_count": 158
        },
        {
          "output_type": "display_data",
          "data": {
            "image/png": "[encoded data removed]",
            "text/plain": [
              "<Figure size 432x288 with 1 Axes>"
            ]
          },
          "metadata": {
            "tags": [],
            "needs_background": "light"
          }
        }
      ]
    },
    {
      "cell_type": "code",
      "metadata": {
        "id": "Kf4Te7gWMdPn",
        "outputId": "503f414e-e801-4434-9c5a-0770e18e1b57"
      },
      "source": [
        "data.shape"
      ],
      "execution_count": null,
      "outputs": [
        {
          "output_type": "execute_result",
          "data": {
            "text/plain": [
              "(347, 561)"
            ]
          },
          "metadata": {
            "tags": []
          },
          "execution_count": 35
        }
      ]
    },
    {
      "cell_type": "code",
      "metadata": {
        "id": "J-_22BYsMdPo",
        "outputId": "71d66763-9cdf-4568-e0c4-badfe7ad19f8"
      },
      "source": [
        "U.shape"
      ],
      "execution_count": null,
      "outputs": [
        {
          "output_type": "execute_result",
          "data": {
            "text/plain": [
              "(347, 347)"
            ]
          },
          "metadata": {
            "tags": []
          },
          "execution_count": 36
        }
      ]
    },
    {
      "cell_type": "code",
      "metadata": {
        "id": "ZKNaz5myMdPo",
        "outputId": "55ce23b7-6c2d-4022-d76b-a0c3c3b0a7b0"
      },
      "source": [
        "V.shape"
      ],
      "execution_count": null,
      "outputs": [
        {
          "output_type": "execute_result",
          "data": {
            "text/plain": [
              "(561, 561)"
            ]
          },
          "metadata": {
            "tags": []
          },
          "execution_count": 37
        }
      ]
    },
    {
      "cell_type": "code",
      "metadata": {
        "colab": {
          "base_uri": "https://localhost:8080/"
        },
        "id": "dKy5FTQAMdPp",
        "outputId": "505a6a2e-32c9-45cb-992a-044318267a84"
      },
      "source": [
        "data.shape"
      ],
      "execution_count": 164,
      "outputs": [
        {
          "output_type": "execute_result",
          "data": {
            "text/plain": [
              "(347, 561)"
            ]
          },
          "metadata": {
            "tags": []
          },
          "execution_count": 164
        }
      ]
    },
    {
      "cell_type": "code",
      "metadata": {
        "colab": {
          "base_uri": "https://localhost:8080/"
        },
        "id": "ZtE0eXrJMdPp",
        "outputId": "0d088364-b126-4b14-bb4e-ac266dd8646e"
      },
      "source": [
        "s[-10:]"
      ],
      "execution_count": 165,
      "outputs": [
        {
          "output_type": "execute_result",
          "data": {
            "text/plain": [
              "array([0.05509901, 0.05235954, 0.05051615, 0.04654907, 0.04497771,\n",
              "       0.04149722, 0.03911558, 0.03609977, 0.03199052, 0.03018237])"
            ]
          },
          "metadata": {
            "tags": []
          },
          "execution_count": 165
        }
      ]
    },
    {
      "cell_type": "code",
      "metadata": {
        "colab": {
          "base_uri": "https://localhost:8080/"
        },
        "id": "mSRSfwuPMdPq",
        "outputId": "69262ef5-8723-49a3-a2e6-cc4592ed3033"
      },
      "source": [
        "s[:10]"
      ],
      "execution_count": 166,
      "outputs": [
        {
          "output_type": "execute_result",
          "data": {
            "text/plain": [
              "array([282.15384003,  95.42353957,  36.85202834,  22.82138203,\n",
              "        19.08013692,  17.70325797,  14.88130032,  14.57952211,\n",
              "        13.41238157,  12.72725109])"
            ]
          },
          "metadata": {
            "tags": []
          },
          "execution_count": 166
        }
      ]
    },
    {
      "cell_type": "code",
      "metadata": {
        "colab": {
          "base_uri": "https://localhost:8080/"
        },
        "id": "7pTxc8RYMdPq",
        "outputId": "c5e092e7-c04a-48e4-c129-2c662a4263a3"
      },
      "source": [
        "pd.unique(df_subject.Activity)"
      ],
      "execution_count": 168,
      "outputs": [
        {
          "output_type": "execute_result",
          "data": {
            "text/plain": [
              "array(['STANDING', 'SITTING', 'LAYING', 'WALKING', 'WALKING_DOWNSTAIRS',\n",
              "       'WALKING_UPSTAIRS'], dtype=object)"
            ]
          },
          "metadata": {
            "tags": []
          },
          "execution_count": 168
        }
      ]
    },
    {
      "cell_type": "code",
      "metadata": {
        "id": "yji8eJK-MdPq"
      },
      "source": [
        "data_projected = np.dot(V, data.T).T"
      ],
      "execution_count": 169,
      "outputs": []
    },
    {
      "cell_type": "code",
      "metadata": {
        "colab": {
          "base_uri": "https://localhost:8080/"
        },
        "id": "dzX0NHkAMdPq",
        "outputId": "1f62e3c5-108f-40d0-8f76-7593dc372ce1"
      },
      "source": [
        "pd.unique(df_subject.Activity)"
      ],
      "execution_count": 170,
      "outputs": [
        {
          "output_type": "execute_result",
          "data": {
            "text/plain": [
              "array(['STANDING', 'SITTING', 'LAYING', 'WALKING', 'WALKING_DOWNSTAIRS',\n",
              "       'WALKING_UPSTAIRS'], dtype=object)"
            ]
          },
          "metadata": {
            "tags": []
          },
          "execution_count": 170
        }
      ]
    },
    {
      "cell_type": "code",
      "metadata": {
        "colab": {
          "base_uri": "https://localhost:8080/",
          "height": 269
        },
        "id": "ZerAAmfSMdPr",
        "outputId": "778bb138-5354-4902-a81a-767533d41e0e"
      },
      "source": [
        "activity_codes = {\n",
        "    \"STANDING\": \"red\", \"SITTING\": \"green\", \"LAYING\": \"blue\", \"WALKING\": \"yellow\",\n",
        "    'WALKING_DOWNSTAIRS': \"cyan\", 'WALKING_UPSTAIRS': \"orange\" }\n",
        "\n",
        "for i in range(data_projected.shape[0]):\n",
        "    ax = plt.scatter(data_projected[i,0], data_projected[i,1], c = activity_codes[df_subject.Activity[i]])\n",
        "    "
      ],
      "execution_count": 182,
      "outputs": [
        {
          "output_type": "display_data",
          "data": {
            "image/png": "[encoded data removed]",
            "text/plain": [
              "<Figure size 432x288 with 1 Axes>"
            ]
          },
          "metadata": {
            "tags": [],
            "needs_background": "light"
          }
        }
      ]
    },
    {
      "cell_type": "code",
      "metadata": {
        "colab": {
          "base_uri": "https://localhost:8080/",
          "height": 269
        },
        "id": "Hlrf2pfZMdPr",
        "outputId": "020c5507-9f1a-494e-87a8-c1a4505c1b6b"
      },
      "source": [
        "for i in range(data_projected.shape[0]):\n",
        "    ax = plt.scatter(data[i,1], data[i,2], c = activity_codes[df_subject.Activity[i]])\n",
        "\n"
      ],
      "execution_count": 180,
      "outputs": [
        {
          "output_type": "display_data",
          "data": {
            "image/png": "[encoded data removed]",
            "text/plain": [
              "<Figure size 432x288 with 1 Axes>"
            ]
          },
          "metadata": {
            "tags": [],
            "needs_background": "light"
          }
        }
      ]
    },
    {
      "cell_type": "code",
      "metadata": {
        "colab": {
          "base_uri": "https://localhost:8080/",
          "height": 269
        },
        "id": "it3US_V6MdPr",
        "outputId": "ae5be87b-79a8-4e2f-dd82-ebf6214145e6"
      },
      "source": [
        "for i in range(data_projected.shape[0]):\n",
        "    plt.scatter(i, U[i,0], c = activity_codes[df_subject.Activity[i]])\n"
      ],
      "execution_count": 181,
      "outputs": [
        {
          "output_type": "display_data",
          "data": {
            "image/png": "[encoded data removed]",
            "text/plain": [
              "<Figure size 432x288 with 1 Axes>"
            ]
          },
          "metadata": {
            "tags": [],
            "needs_background": "light"
          }
        }
      ]
    },
    {
      "cell_type": "code",
      "metadata": {
        "collapsed": true,
        "id": "ZjgTSO5nMdPr"
      },
      "source": [
        ""
      ],
      "execution_count": null,
      "outputs": []
    }
  ]
}
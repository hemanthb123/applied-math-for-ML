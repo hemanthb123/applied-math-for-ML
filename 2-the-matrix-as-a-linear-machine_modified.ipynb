{
  "nbformat": 4,
  "nbformat_minor": 0,
  "metadata": {
    "kernelspec": {
      "display_name": "Python 2",
      "language": "python",
      "name": "python2"
    },
    "language_info": {
      "codemirror_mode": {
        "name": "ipython",
        "version": 2
      },
      "file_extension": ".py",
      "mimetype": "text/x-python",
      "name": "python",
      "nbconvert_exporter": "python",
      "pygments_lexer": "ipython2",
      "version": "2.7.12"
    },
    "colab": {
      "name": "2-the-matrix-as-a-linear-machine.ipynb",
      "provenance": [],
      "include_colab_link": true
    }
  },
  "cells": [
    {
      "cell_type": "markdown",
      "metadata": {
        "id": "view-in-github",
        "colab_type": "text"
      },
      "source": [
        "<a href=\"https://colab.research.google.com/github/hemanthb123/applied-math-for-ML/blob/master/2-the-matrix-as-a-linear-machine_modified.ipynb\" target=\"_parent\"><img src=\"https://colab.research.google.com/assets/colab-badge.svg\" alt=\"Open In Colab\"/></a>"
      ]
    },
    {
      "cell_type": "markdown",
      "metadata": {
        "id": "Uds_bJZNzA2f"
      },
      "source": [
        "# The matrix as a linear machine\n",
        "\n",
        "\n",
        "We can think of a matrix $A \\in \\mathbb{R}^{m\\times n}$ as a \"linear machine\" that transforms data from $\\mathbb{R}^{n}$ to $\\mathbb{R}^{m}$. One way of thinking about this is that the matrix $A \\in \\mathbb{R}^{m\\times n}$ warps the vector space $\\mathbb{R}^{n}$ into $\\mathbb{R}^{m}$, but in a very particular and limited way - specifically, the transformation is *linear* \n",
        "\n",
        "\n",
        "## $m = 1, n = 1$\n",
        "- the linear machine from input space $x \\in \\mathbb{R}$ to the output space $y \\in \\mathbb{R}$ can be expressed as: $y = ax$. \n",
        "- If $|a| > 1$, the linear machine is \"stretching\" the input space\n",
        "- If $0 < |a| < 1$, the linear machine is \"shrinking\" the input space\n",
        "- This linear machine is **one-to-one** because for every $y$ we can find the corresponding $x$ **unless** $a = 0$. If $a = 0$, then the linear transformation is not one-to-one. In that case $y = 0$ for any $x$ and the value of $x$ is *not* recoverable after the transformation\n",
        "- Note, however, in practice if $a \\neq 0$ but $|a| \\ll |x|$ (that is, the input we see is typically much larger than $a$), then effectively we the transformation is *not* one-to-one\n",
        "\n",
        "##  $m = 1, n = 2$\n",
        "- $y = \\begin{bmatrix}a & b \\end{bmatrix} \\begin{bmatrix} x_{1}\\\\  x_{2} \\end{bmatrix}$\n",
        "- Can also be written as $y = ax_{1} + bx_{2}$\n",
        "- This transformation is never one-to-one. For a given $y$, there can be infinitely many $x_1$ and $x_2$\n",
        "- Any $x_1$ and $x_2$ **orthogonal** to $a$ and $b$ will always get mapped to 0! This subset of $x_1$ and $x_2$ forms a **subspace** and is referred to as the **Null Space**. That is, all $x_1$ and $x_2$ that satisfy the equation $ax_{1} + bx_{2} = 0$ is called the null space. Again, there can be an infinity of $x_1$ and $x_2$ that satisfy this condition. \n",
        "- In other words, the **Null Space** is the *subset of the input* that always maps to 0. \n",
        "\n",
        "\n",
        "\n",
        "## $m = 2, n = 1$\n",
        "- Even though the linear machine is transforming from a smaller dimension input space $x \\in \\mathbb{R}$  (1 dimensional data) to a larger space $y \\in \\mathbb{R}^{2}$ (2 dimensional data), the effective dimension of the output space is still limited to 1 dimension. \n",
        "- The subset of $y_1$ and $y_2$ that is mapped by the 2-by-1 linear machine is a **subspace** and is referred to as the **Range Space** or **Image** of $A$. \n",
        "- In other words, the **Range Space** of $A$ is the *subset of the output* that is reachable by the input. \n",
        "\n",
        "## $m = 2, n = 2$\n",
        "- In this case, the input dimension and the output dimension are the same. However, if the matrix $A$ is designed in a particular way, then it's possible that the **Range Space** is limited similar to the case of $m = 2, n = 1$. \n",
        "- Similarly, for particular values of $A$, the **Null Space** will be the trivial singleton set $\\{x_1 = 0, x_2 = 0\\}$. \n"
      ]
    },
    {
      "cell_type": "code",
      "metadata": {
        "id": "V1vHeyDYzA2h"
      },
      "source": [
        "import numpy as np\n",
        "import matplotlib.pyplot as plt\n",
        "\n",
        "%matplotlib inline"
      ],
      "execution_count": 1,
      "outputs": []
    },
    {
      "cell_type": "code",
      "metadata": {
        "id": "jDZWZXaOzA2i"
      },
      "source": [
        "A = np.array([[1,10], \n",
        "              [1.5,10]])\n",
        "\n",
        "N = 1000                 # Number of measurements\n",
        "x = np.random.randn(2,N)   # a bunch of measurements in inches\n",
        "y = np.dot(A, x).T"
      ],
      "execution_count": 2,
      "outputs": []
    },
    {
      "cell_type": "code",
      "metadata": {
        "id": "0dE5hhK5zA2j",
        "colab": {
          "base_uri": "https://localhost:8080/",
          "height": 314
        },
        "outputId": "9352f431-e7c6-400f-bd42-e15756b58de1"
      },
      "source": [
        "\n",
        "plt.figure(figsize=(16, 4))\n",
        "plt.subplot(1,2,1)\n",
        "plt.plot(x[0,:], x[1,:], '.')\n",
        "plt.title(\"The input to the linear machine\")\n",
        "plt.xlabel(\"$x_{1}$\")\n",
        "plt.xlabel(\"$x_{2}$\")\n",
        "\n",
        "\n",
        "plt.subplot(1,2,2)\n",
        "plt.plot(y[:,0], y[:,1], '.')\n",
        "plt.title(\"The output of the linear machine\")\n",
        "plt.xlabel(\"$y_{1}$\")\n",
        "plt.xlabel(\"$y_{2}$\")"
      ],
      "execution_count": 3,
      "outputs": [
        {
          "output_type": "execute_result",
          "data": {
            "text/plain": [
              "Text(0.5,0,'$y_{2}$')"
            ]
          },
          "metadata": {
            "tags": []
          },
          "execution_count": 3
        },
        {
          "output_type": "display_data",
          "data": {
            "image/png": "[encoded data removed]",
            "text/plain": [
              "<Figure size 1152x288 with 2 Axes>"
            ]
          },
          "metadata": {
            "tags": [],
            "needs_background": "light"
          }
        }
      ]
    },
    {
      "cell_type": "markdown",
      "metadata": {
        "collapsed": true,
        "id": "9dID9acXzA2j"
      },
      "source": [
        "# Singular Value Decomposition\n",
        "\n",
        "**Theorem**: Any matrix $A \\in \\mathbb{R}^{m\\times n}$ can be written as:\n",
        "\n",
        "$\\qquad\\qquad\\qquad\\qquad A = U \\Sigma V^{T}$ \n",
        "\n",
        "where $U \\in \\mathbb{R}^{m\\times m}$ and $V \\in \\mathbb{R}^{n\\times n}$ are *orthnonormal matrices* and $\\Sigma \\in \\mathbb{R}^{m\\times n}$ is a *diagonal* matrix with *all positive entries*.\n",
        "\n",
        "- Because $U$ and $V$ are *orthnonormal matrices*, we have $V^{T}V = \\textbf{I}$ and $U^{T}U = \\textbf{I}$\n",
        "- Orthonormal matrices are always square, and symmetric $U^{T} = U$\n",
        "- Orthonormal matrices are always one-to-one: \n",
        "\n",
        "$\\qquad z = U^{T}x$\n",
        "\n",
        "- Can we get back $x$ after the linear transformation? Yes because $U$ is orthonormal:\n",
        "\n",
        "$\\qquad Uz = UU^{T}x \\implies x$\n",
        "\n",
        "-  Aside: orthonormal projections can be extremely powerful! Consider, for examples, the *Fourier transform.*\n",
        "\n",
        "<br>\n",
        "- A diagonal matrix simply scales each element of the vector (does not combine elements)\n",
        "\n",
        "$\\qquad\\textbf{diag}(\\sigma_1, \\ldots, \\sigma_n) \\begin{bmatrix} z_{1}\\\\ \\vdots \\\\ z_{n} \\end{bmatrix} = \n",
        "\\begin{bmatrix} \\sigma_1z_{1}\\\\ \\vdots \\\\ \\sigma_nz_{n} \\end{bmatrix}$  \n",
        "- The diagonal matrix in $\\Sigma$ in Singular Value Decomposition has the further property that all the diagonal elements are positive and placed in descending order. So for $\\Sigma = \\textbf{diag}(\\sigma_1, \\ldots, \\sigma_r)$, we have\n",
        "\n",
        "$\\qquad\\sigma_{1} \\ge \\sigma_{2} \\ge \\ldots \\sigma_{r} \\ge 0$ \n",
        "\n",
        "\n",
        "(The value of $r$ will be discussed below). \n",
        "\n",
        "So the Singular Value Decomposition (SVD) decomposes *any* matrix into three matrices that have very special properties and structure. This enables us to think of a matrix $A$ as a linear machine that transforms data from $x \\in \\mathbb{R}^{n}$ to $y \\in \\mathbb{R}^{m}$ as a process of going through three transformations:\n",
        "\n",
        "1. $x$ is projected (or \"expressed\") by the *input* basis set contained in $V$ into the vector $z$\n",
        "2. The projection $z$ is then scaled by the elemnets in the diagnoal matrix $Sigma$ into the vector $\\hat{z}$\n",
        "3. The scaled projection $\\hat{z}$ is then projected into the *output* space \n",
        "\n",
        "<img src=\"./imgs/lecture-2/svd-transformation.png\" alt=\"Drawing\" style=\"width: 900px;\"/ align=\"left\">"
      ]
    },
    {
      "cell_type": "markdown",
      "metadata": {
        "id": "fuzVgww0zA2k"
      },
      "source": [
        "## Why do we care?\n",
        "At this point you might be asking \"wait, what is so interesting about this? Instead of having to deal with 1 matrix multiplication $Ax$, I know have to deal with 3: $U\\Sigma V^{T} x$. \n",
        "\n",
        "How is this helpful?\"\n",
        "\n",
        "Recall that we described the matrix $A \\in \\mathbb{R}^{n\\times m}$ as a linear machine that takes inputs from $x \\in \\mathbb{R}^{n}$ to outputs $y \\in \\mathbb{R}^{m}$. The SVD untagles how this transformation takes place. Specifically,\n",
        "\n",
        "- The first projection $V$ dictates the relevant *basis set for the input space*. Put another way, the first projection $V$ determines what the \"natural coordinate system\" for the input space *should* be. So the first projection is re-expressing the input $x \\in \\mathbb{R}^{n}$ into the coordinate system that the linear machine cares about. Note that because $V$ is an orthonormal matrix (and so is one-to-one), re-expressing the input $x$ with the range space of $V$ does not mean we have lost any information. Let's refer this first projection as $z = V^{T}x$\n",
        "\n",
        "- The diagonal matrix then *scales* each coordinate in terms of how important these natural coordinates are. A lot of times in practice $\\sigma_1 \\gg \\sigma_n$. What this means is that a subset of the coordinates can be effectively dropped. This is a key point. If every single coordinate was important,then all $\\sigma_i$ would be equal. Let's refer to this scaling as $\\widehat{z} = \\Sigma z$.\n",
        "\n",
        "- The last projection $U$ dictates the relevant *basis set for the output space.*  That is, $U$ re-expresses the scaled transformation $\\widehat{z}$  in terms of the coordinates relevant for the output space. "
      ]
    },
    {
      "cell_type": "code",
      "metadata": {
        "collapsed": true,
        "id": "XV9A4CILzA2k"
      },
      "source": [
        "A = np.array([[1,10], \n",
        "              [14,10]])\n",
        "\n",
        "U, s, V = np.linalg.svd(A)\n",
        "\n",
        "N = 1000                 # Number of measurements\n",
        "x = np.random.randn(2,N)   # a bunch of measurements in inches\n",
        "z = np.dot(V, x).T"
      ],
      "execution_count": 4,
      "outputs": []
    },
    {
      "cell_type": "code",
      "metadata": {
        "id": "p1r8ed_RzA2l",
        "colab": {
          "base_uri": "https://localhost:8080/",
          "height": 316
        },
        "outputId": "e18f9582-4a1a-4c16-d31c-d41dfcb79a77"
      },
      "source": [
        "plt.figure(figsize=(16, 4))\n",
        "plt.subplot(1,2,1)\n",
        "plt.plot(x[0,:], x[1,:], '.')\n",
        "plt.title(\"The input to the linear machine\")\n",
        "plt.xlabel(\"$x_{1}$\")\n",
        "plt.xlabel(\"$x_{2}$\")\n",
        "\n",
        "\n",
        "plt.subplot(1,2,2)\n",
        "plt.plot(z[:,0], z[:,1], '.')\n",
        "plt.title(\"The input transformed by the orthonormal projection $V$\")\n",
        "plt.xlabel(\"$z_{1}$\")\n",
        "plt.xlabel(\"$z_{2}$\")"
      ],
      "execution_count": 5,
      "outputs": [
        {
          "output_type": "execute_result",
          "data": {
            "text/plain": [
              "Text(0.5,0,'$z_{2}$')"
            ]
          },
          "metadata": {
            "tags": []
          },
          "execution_count": 5
        },
        {
          "output_type": "display_data",
          "data": {
            "image/png": "[encoded data removed]",
            "text/plain": [
              "<Figure size 1152x288 with 2 Axes>"
            ]
          },
          "metadata": {
            "tags": [],
            "needs_background": "light"
          }
        }
      ]
    },
    {
      "cell_type": "code",
      "metadata": {
        "id": "4bEhrdf2zA2m"
      },
      "source": [
        "z_hat = np.dot(np.diag(s), z.T).T"
      ],
      "execution_count": 6,
      "outputs": []
    },
    {
      "cell_type": "code",
      "metadata": {
        "id": "c630ID25zA2m",
        "colab": {
          "base_uri": "https://localhost:8080/",
          "height": 300
        },
        "outputId": "602d168c-ec1b-48dd-d475-88721585aaf6"
      },
      "source": [
        "plt.figure(figsize=(16, 4))\n",
        "plt.subplot(1,2,1)\n",
        "plt.plot(z[:,0], z[:,1], '.')\n",
        "plt.title(\"The input to the scaling machine\")\n",
        "\n",
        "plt.subplot(1,2,2)\n",
        "plt.plot(z_hat[:,0], z_hat[:,1], '.')\n",
        "plt.title(\"The input transformed by the scaled by $\\Sigma$\")\n"
      ],
      "execution_count": 7,
      "outputs": [
        {
          "output_type": "execute_result",
          "data": {
            "text/plain": [
              "Text(0.5,1,'The input transformed by the scaled by $\\\\Sigma$')"
            ]
          },
          "metadata": {
            "tags": []
          },
          "execution_count": 7
        },
        {
          "output_type": "display_data",
          "data": {
            "image/png": "[encoded data removed]",
            "text/plain": [
              "<Figure size 1152x288 with 2 Axes>"
            ]
          },
          "metadata": {
            "tags": [],
            "needs_background": "light"
          }
        }
      ]
    },
    {
      "cell_type": "code",
      "metadata": {
        "collapsed": true,
        "id": "QX_2IU0mzA2m"
      },
      "source": [
        "y = np.dot(U, z_hat.T).T"
      ],
      "execution_count": 8,
      "outputs": []
    },
    {
      "cell_type": "code",
      "metadata": {
        "id": "fnxP0h-3zA2n",
        "colab": {
          "base_uri": "https://localhost:8080/",
          "height": 300
        },
        "outputId": "d5b05440-2c3a-4a88-9511-0787c963b381"
      },
      "source": [
        "plt.figure(figsize=(16, 4))\n",
        "plt.subplot(1,2,1)\n",
        "plt.plot(z_hat[:,0], z_hat[:,1], '.')\n",
        "plt.title(\"The input to the output rotation machine\")\n",
        "\n",
        "plt.subplot(1,2,2)\n",
        "plt.plot(y[:,0], y[:,1], '.')\n",
        "plt.title(\"The input transformed by the orthonormal projection $V$\")\n"
      ],
      "execution_count": 9,
      "outputs": [
        {
          "output_type": "execute_result",
          "data": {
            "text/plain": [
              "Text(0.5,1,'The input transformed by the orthonormal projection $V$')"
            ]
          },
          "metadata": {
            "tags": []
          },
          "execution_count": 9
        },
        {
          "output_type": "display_data",
          "data": {
            "image/png": "[encoded data removed]",
            "text/plain": [
              "<Figure size 1152x288 with 2 Axes>"
            ]
          },
          "metadata": {
            "tags": [],
            "needs_background": "light"
          }
        }
      ]
    },
    {
      "cell_type": "markdown",
      "metadata": {
        "id": "ka1m-DKZzA2o"
      },
      "source": [
        "# The structure of SVD and the notion of rank\n",
        "\n",
        "Let's peek a bit more into the structure of the SVD. The matrix $A \\in \\mathbb{R}^{m\\times n}$ has $m$ rows and $n$ columns. \n",
        "\n",
        "Since SVD says $A = U\\Sigma V^{T}$, then\n",
        "\n",
        "- $V \\in \\mathbb{R}^{n\\times n}$ and $U \\in \\mathbb{R}^{m\\times m}$\n",
        "- $\\Sigma \\in \\mathbb{R}^{m\\times n}$ \n",
        "\n",
        "$\\Sigma$ is the only non-square matrix (unless $m = n$) and as we discussed it is diagonal. That is, $\\Sigma = \\textbf{diag}(\\sigma_1, \\ldots, \\sigma_r)$\n",
        "\n",
        "What is the value for $r$? In general, $r \\le \\text{min}(m, n)$.\n",
        "\n",
        "Note that it is possible for $r$ to be strictly less than $\\text{min}(m, n)$ and in fact it is often $r \\ll \\text{min}(m, n)$! This is a very important and practical property. To start, if $r < \\text{min}(m, n)$, then we can write a more compressed version of SVD.\n",
        "\n",
        "<img src=\"./imgs/lecture-2/svd-rank.jpg\" alt=\"Drawing\" style=\"width: 600px;\"/ align=\"left\">"
      ]
    },
    {
      "cell_type": "markdown",
      "metadata": {
        "id": "0oZ-b4UrzA2p"
      },
      "source": [
        "$r$ is referred to as the rank a matrix. It is related to two different types of rank. The *row rank* and the *column rank*. For an $A \\in \\mathbb{R}^{m\\times n}$ matrix,\n",
        "\n",
        "- Row rank: the number of row vectors that are independent. It is always $\\le m$. This is sometimes also referred to as the *dimension* of the row space. We will call this $d_r$.\n",
        "- Column rank: the number of column vectors that are independent. It is always $\\le n$. This is somtimes also referred to as the *dimension* of the column space. We will call this $d_c$.\n",
        "\n",
        "So the rank $r$ matrix is $r = \\text{min}(d_r, d_c)$ and is the *inherrit* dimension of the linear transformation determined by $A$. \n"
      ]
    },
    {
      "cell_type": "code",
      "metadata": {
        "id": "wTd-H31CzA2q",
        "colab": {
          "base_uri": "https://localhost:8080/"
        },
        "outputId": "74d8defa-0b7f-4cbe-a30c-acfb26875d3e"
      },
      "source": [
        "# Exercise: compute the SVD and verify you can recreate A\n",
        "\n",
        "A = np.array([[10,2, -1], \n",
        "              [-100,10, 3]])\n",
        "\n",
        "\n",
        "N = 1000                 # Number of measurements\n",
        "x = np.vstack((np.random.randn(2,N), np.zeros((1,N))))   # a bunch of measurements in inches\n",
        "y = np.dot(A, x).T\n",
        "\n",
        "print(A)\n",
        "U2,s2,V2 = np.linalg.svd(A)\n",
        "print(np.dot(U2,np.dot(np.diag(s2),V2[:2,:2])))"
      ],
      "execution_count": 10,
      "outputs": [
        {
          "output_type": "stream",
          "text": [
            "[[  10    2   -1]\n",
            " [-100   10    3]]\n",
            "[[  10.    2.]\n",
            " [-100.   10.]]\n"
          ],
          "name": "stdout"
        }
      ]
    },
    {
      "cell_type": "markdown",
      "metadata": {
        "id": "IHzVDjK4zA2r"
      },
      "source": [
        "## The four fundamental subspaces\n",
        "\n",
        "The SVD puts all the concepts we have talked about, the linear transform, orthonormal matrices, rank, dimension, and the important subspaces into one figure (from Gilbert Strang):\n",
        "\n",
        "<img src=\"https://github.com/hemanthb123/applied-math-for-ML/blob/master/imgs/lecture-2/fundamental-subspaces.png?raw=1\" alt=\"Drawing\" style=\"width: 600px;\">"
      ]
    },
    {
      "cell_type": "markdown",
      "metadata": {
        "collapsed": true,
        "id": "qPs6btGPzA2s"
      },
      "source": [
        "## SVD on Real world data"
      ]
    },
    {
      "cell_type": "code",
      "metadata": {
        "collapsed": true,
        "id": "kE2OSRcYzA2s"
      },
      "source": [
        "import pandas as pd"
      ],
      "execution_count": 11,
      "outputs": []
    },
    {
      "cell_type": "code",
      "metadata": {
        "id": "iMAoqcvJMdPl"
      },
      "source": [
        "#df = pd.read_csv(\"./data/trian-har.csv\")\r\n",
        "\r\n",
        "import pandas as pd\r\n",
        "import requests\r\n",
        "import io\r\n",
        "\r\n",
        "url = \"https://raw.githubusercontent.com/hemanthb123/applied-math-for-ML/master/data/trian-har.csv\"\r\n",
        "s = requests.get(url).content\r\n",
        "df=pd.read_csv(io.StringIO(s.decode('utf-8')))\r\n",
        "#df=pd.read_csv(s)\r\n",
        "\r\n",
        "\r\n"
      ],
      "execution_count": 12,
      "outputs": []
    },
    {
      "cell_type": "code",
      "metadata": {
        "id": "e9CZD2gzzA2t",
        "colab": {
          "base_uri": "https://localhost:8080/",
          "height": 270
        },
        "outputId": "dd046d1f-fbbd-49a6-a665-fc6e5df8a715"
      },
      "source": [
        "df.head()"
      ],
      "execution_count": 13,
      "outputs": [
        {
          "output_type": "execute_result",
          "data": {
            "text/plain": [
              "   tBodyAcc-mean()-X  tBodyAcc-mean()-Y  tBodyAcc-mean()-Z  tBodyAcc-std()-X  \\\n",
              "0           0.288585          -0.020294          -0.132905         -0.995279   \n",
              "1           0.278419          -0.016411          -0.123520         -0.998245   \n",
              "2           0.279653          -0.019467          -0.113462         -0.995380   \n",
              "3           0.279174          -0.026201          -0.123283         -0.996091   \n",
              "4           0.276629          -0.016570          -0.115362         -0.998139   \n",
              "\n",
              "   tBodyAcc-std()-Y  tBodyAcc-std()-Z  tBodyAcc-mad()-X  tBodyAcc-mad()-Y  \\\n",
              "0         -0.983111         -0.913526         -0.995112         -0.983185   \n",
              "1         -0.975300         -0.960322         -0.998807         -0.974914   \n",
              "2         -0.967187         -0.978944         -0.996520         -0.963668   \n",
              "3         -0.983403         -0.990675         -0.997099         -0.982750   \n",
              "4         -0.980817         -0.990482         -0.998321         -0.979672   \n",
              "\n",
              "   tBodyAcc-mad()-Z  tBodyAcc-max()-X  ...  fBodyBodyGyroJerkMag-kurtosis()  \\\n",
              "0         -0.923527         -0.934724  ...                        -0.710304   \n",
              "1         -0.957686         -0.943068  ...                        -0.861499   \n",
              "2         -0.977469         -0.938692  ...                        -0.760104   \n",
              "3         -0.989302         -0.938692  ...                        -0.482845   \n",
              "4         -0.990441         -0.942469  ...                        -0.699205   \n",
              "\n",
              "   angle(tBodyAccMean,gravity)  angle(tBodyAccJerkMean),gravityMean)  \\\n",
              "0                    -0.112754                              0.030400   \n",
              "1                     0.053477                             -0.007435   \n",
              "2                    -0.118559                              0.177899   \n",
              "3                    -0.036788                             -0.012892   \n",
              "4                     0.123320                              0.122542   \n",
              "\n",
              "   angle(tBodyGyroMean,gravityMean)  angle(tBodyGyroJerkMean,gravityMean)  \\\n",
              "0                         -0.464761                             -0.018446   \n",
              "1                         -0.732626                              0.703511   \n",
              "2                          0.100699                              0.808529   \n",
              "3                          0.640011                             -0.485366   \n",
              "4                          0.693578                             -0.615971   \n",
              "\n",
              "   angle(X,gravityMean)  angle(Y,gravityMean)  angle(Z,gravityMean)  subject  \\\n",
              "0             -0.841247              0.179941             -0.058627        1   \n",
              "1             -0.844788              0.180289             -0.054317        1   \n",
              "2             -0.848933              0.180637             -0.049118        1   \n",
              "3             -0.848649              0.181935             -0.047663        1   \n",
              "4             -0.847865              0.185151             -0.043892        1   \n",
              "\n",
              "   Activity  \n",
              "0  STANDING  \n",
              "1  STANDING  \n",
              "2  STANDING  \n",
              "3  STANDING  \n",
              "4  STANDING  \n",
              "\n",
              "[5 rows x 563 columns]"
            ],
            "text/html": [
              "<div>\n",
              "<style scoped>\n",
              "    .dataframe tbody tr th:only-of-type {\n",
              "        vertical-align: middle;\n",
              "    }\n",
              "\n",
              "    .dataframe tbody tr th {\n",
              "        vertical-align: top;\n",
              "    }\n",
              "\n",
              "    .dataframe thead th {\n",
              "        text-align: right;\n",
              "    }\n",
              "</style>\n",
              "<table border=\"1\" class=\"dataframe\">\n",
              "  <thead>\n",
              "    <tr style=\"text-align: right;\">\n",
              "      <th></th>\n",
              "      <th>tBodyAcc-mean()-X</th>\n",
              "      <th>tBodyAcc-mean()-Y</th>\n",
              "      <th>tBodyAcc-mean()-Z</th>\n",
              "      <th>tBodyAcc-std()-X</th>\n",
              "      <th>tBodyAcc-std()-Y</th>\n",
              "      <th>tBodyAcc-std()-Z</th>\n",
              "      <th>tBodyAcc-mad()-X</th>\n",
              "      <th>tBodyAcc-mad()-Y</th>\n",
              "      <th>tBodyAcc-mad()-Z</th>\n",
              "      <th>tBodyAcc-max()-X</th>\n",
              "      <th>...</th>\n",
              "      <th>fBodyBodyGyroJerkMag-kurtosis()</th>\n",
              "      <th>angle(tBodyAccMean,gravity)</th>\n",
              "      <th>angle(tBodyAccJerkMean),gravityMean)</th>\n",
              "      <th>angle(tBodyGyroMean,gravityMean)</th>\n",
              "      <th>angle(tBodyGyroJerkMean,gravityMean)</th>\n",
              "      <th>angle(X,gravityMean)</th>\n",
              "      <th>angle(Y,gravityMean)</th>\n",
              "      <th>angle(Z,gravityMean)</th>\n",
              "      <th>subject</th>\n",
              "      <th>Activity</th>\n",
              "    </tr>\n",
              "  </thead>\n",
              "  <tbody>\n",
              "    <tr>\n",
              "      <th>0</th>\n",
              "      <td>0.288585</td>\n",
              "      <td>-0.020294</td>\n",
              "      <td>-0.132905</td>\n",
              "      <td>-0.995279</td>\n",
              "      <td>-0.983111</td>\n",
              "      <td>-0.913526</td>\n",
              "      <td>-0.995112</td>\n",
              "      <td>-0.983185</td>\n",
              "      <td>-0.923527</td>\n",
              "      <td>-0.934724</td>\n",
              "      <td>...</td>\n",
              "      <td>-0.710304</td>\n",
              "      <td>-0.112754</td>\n",
              "      <td>0.030400</td>\n",
              "      <td>-0.464761</td>\n",
              "      <td>-0.018446</td>\n",
              "      <td>-0.841247</td>\n",
              "      <td>0.179941</td>\n",
              "      <td>-0.058627</td>\n",
              "      <td>1</td>\n",
              "      <td>STANDING</td>\n",
              "    </tr>\n",
              "    <tr>\n",
              "      <th>1</th>\n",
              "      <td>0.278419</td>\n",
              "      <td>-0.016411</td>\n",
              "      <td>-0.123520</td>\n",
              "      <td>-0.998245</td>\n",
              "      <td>-0.975300</td>\n",
              "      <td>-0.960322</td>\n",
              "      <td>-0.998807</td>\n",
              "      <td>-0.974914</td>\n",
              "      <td>-0.957686</td>\n",
              "      <td>-0.943068</td>\n",
              "      <td>...</td>\n",
              "      <td>-0.861499</td>\n",
              "      <td>0.053477</td>\n",
              "      <td>-0.007435</td>\n",
              "      <td>-0.732626</td>\n",
              "      <td>0.703511</td>\n",
              "      <td>-0.844788</td>\n",
              "      <td>0.180289</td>\n",
              "      <td>-0.054317</td>\n",
              "      <td>1</td>\n",
              "      <td>STANDING</td>\n",
              "    </tr>\n",
              "    <tr>\n",
              "      <th>2</th>\n",
              "      <td>0.279653</td>\n",
              "      <td>-0.019467</td>\n",
              "      <td>-0.113462</td>\n",
              "      <td>-0.995380</td>\n",
              "      <td>-0.967187</td>\n",
              "      <td>-0.978944</td>\n",
              "      <td>-0.996520</td>\n",
              "      <td>-0.963668</td>\n",
              "      <td>-0.977469</td>\n",
              "      <td>-0.938692</td>\n",
              "      <td>...</td>\n",
              "      <td>-0.760104</td>\n",
              "      <td>-0.118559</td>\n",
              "      <td>0.177899</td>\n",
              "      <td>0.100699</td>\n",
              "      <td>0.808529</td>\n",
              "      <td>-0.848933</td>\n",
              "      <td>0.180637</td>\n",
              "      <td>-0.049118</td>\n",
              "      <td>1</td>\n",
              "      <td>STANDING</td>\n",
              "    </tr>\n",
              "    <tr>\n",
              "      <th>3</th>\n",
              "      <td>0.279174</td>\n",
              "      <td>-0.026201</td>\n",
              "      <td>-0.123283</td>\n",
              "      <td>-0.996091</td>\n",
              "      <td>-0.983403</td>\n",
              "      <td>-0.990675</td>\n",
              "      <td>-0.997099</td>\n",
              "      <td>-0.982750</td>\n",
              "      <td>-0.989302</td>\n",
              "      <td>-0.938692</td>\n",
              "      <td>...</td>\n",
              "      <td>-0.482845</td>\n",
              "      <td>-0.036788</td>\n",
              "      <td>-0.012892</td>\n",
              "      <td>0.640011</td>\n",
              "      <td>-0.485366</td>\n",
              "      <td>-0.848649</td>\n",
              "      <td>0.181935</td>\n",
              "      <td>-0.047663</td>\n",
              "      <td>1</td>\n",
              "      <td>STANDING</td>\n",
              "    </tr>\n",
              "    <tr>\n",
              "      <th>4</th>\n",
              "      <td>0.276629</td>\n",
              "      <td>-0.016570</td>\n",
              "      <td>-0.115362</td>\n",
              "      <td>-0.998139</td>\n",
              "      <td>-0.980817</td>\n",
              "      <td>-0.990482</td>\n",
              "      <td>-0.998321</td>\n",
              "      <td>-0.979672</td>\n",
              "      <td>-0.990441</td>\n",
              "      <td>-0.942469</td>\n",
              "      <td>...</td>\n",
              "      <td>-0.699205</td>\n",
              "      <td>0.123320</td>\n",
              "      <td>0.122542</td>\n",
              "      <td>0.693578</td>\n",
              "      <td>-0.615971</td>\n",
              "      <td>-0.847865</td>\n",
              "      <td>0.185151</td>\n",
              "      <td>-0.043892</td>\n",
              "      <td>1</td>\n",
              "      <td>STANDING</td>\n",
              "    </tr>\n",
              "  </tbody>\n",
              "</table>\n",
              "<p>5 rows × 563 columns</p>\n",
              "</div>"
            ]
          },
          "metadata": {
            "tags": []
          },
          "execution_count": 13
        }
      ]
    },
    {
      "cell_type": "code",
      "metadata": {
        "collapsed": true,
        "id": "5fHEffslzA2t"
      },
      "source": [
        "df_subject = df[df.subject == 1]"
      ],
      "execution_count": 14,
      "outputs": []
    },
    {
      "cell_type": "code",
      "metadata": {
        "id": "g-7pILu9zA2u"
      },
      "source": [
        "data = np.array(df_subject.iloc[:,:-2])\n",
        "U, s, V = np.linalg.svd(data)"
      ],
      "execution_count": 15,
      "outputs": []
    },
    {
      "cell_type": "code",
      "metadata": {
        "id": "koGn3eXIzA2u",
        "colab": {
          "base_uri": "https://localhost:8080/",
          "height": 286
        },
        "outputId": "2da9edb3-83af-4a6d-e6b2-afa295138a62"
      },
      "source": [
        "plt.plot(s)\n",
        "plt.semilogy()\n",
        "\n",
        "print (s[:4])"
      ],
      "execution_count": 31,
      "outputs": [
        {
          "output_type": "stream",
          "text": [
            "[282.15384003  95.42353957  36.85202834  22.82138203]\n"
          ],
          "name": "stdout"
        },
        {
          "output_type": "display_data",
          "data": {
            "image/png": "[encoded data removed]",
            "text/plain": [
              "<Figure size 432x288 with 1 Axes>"
            ]
          },
          "metadata": {
            "tags": [],
            "needs_background": "light"
          }
        }
      ]
    },
    {
      "cell_type": "code",
      "metadata": {
        "id": "5pO4ntsxzA2v",
        "colab": {
          "base_uri": "https://localhost:8080/"
        },
        "outputId": "fcdb2fe8-d10c-4baa-e2a3-64998c8c27ae"
      },
      "source": [
        "data.shape"
      ],
      "execution_count": 17,
      "outputs": [
        {
          "output_type": "execute_result",
          "data": {
            "text/plain": [
              "(347, 561)"
            ]
          },
          "metadata": {
            "tags": []
          },
          "execution_count": 17
        }
      ]
    },
    {
      "cell_type": "code",
      "metadata": {
        "id": "HEqp1SbszA2w",
        "colab": {
          "base_uri": "https://localhost:8080/"
        },
        "outputId": "772161b7-65c5-442f-8fed-7d4e71271b20"
      },
      "source": [
        "U.shape"
      ],
      "execution_count": 18,
      "outputs": [
        {
          "output_type": "execute_result",
          "data": {
            "text/plain": [
              "(347, 347)"
            ]
          },
          "metadata": {
            "tags": []
          },
          "execution_count": 18
        }
      ]
    },
    {
      "cell_type": "code",
      "metadata": {
        "id": "xwsZOL2rzA2w",
        "colab": {
          "base_uri": "https://localhost:8080/"
        },
        "outputId": "d4114e97-9852-4655-c521-e3a4b3de42c6"
      },
      "source": [
        "V.shape"
      ],
      "execution_count": 19,
      "outputs": [
        {
          "output_type": "execute_result",
          "data": {
            "text/plain": [
              "(561, 561)"
            ]
          },
          "metadata": {
            "tags": []
          },
          "execution_count": 19
        }
      ]
    },
    {
      "cell_type": "code",
      "metadata": {
        "id": "Rq7a2htMzA2x",
        "colab": {
          "base_uri": "https://localhost:8080/"
        },
        "outputId": "df859ece-2246-4c58-ec51-3a6cbc45cd25"
      },
      "source": [
        "data.shape"
      ],
      "execution_count": 20,
      "outputs": [
        {
          "output_type": "execute_result",
          "data": {
            "text/plain": [
              "(347, 561)"
            ]
          },
          "metadata": {
            "tags": []
          },
          "execution_count": 20
        }
      ]
    },
    {
      "cell_type": "code",
      "metadata": {
        "id": "DNTBjL7XzA2y",
        "colab": {
          "base_uri": "https://localhost:8080/"
        },
        "outputId": "28afbd39-95ea-4ac5-abbb-799f6d49693d"
      },
      "source": [
        "pd.unique(df_subject.Activity)"
      ],
      "execution_count": 21,
      "outputs": [
        {
          "output_type": "execute_result",
          "data": {
            "text/plain": [
              "array(['STANDING', 'SITTING', 'LAYING', 'WALKING', 'WALKING_DOWNSTAIRS',\n",
              "       'WALKING_UPSTAIRS'], dtype=object)"
            ]
          },
          "metadata": {
            "tags": []
          },
          "execution_count": 21
        }
      ]
    },
    {
      "cell_type": "code",
      "metadata": {
        "id": "XY0q7_uBzA2z"
      },
      "source": [
        "data_projected = np.dot(V, data.T).T"
      ],
      "execution_count": 22,
      "outputs": []
    },
    {
      "cell_type": "code",
      "metadata": {
        "id": "v3vN_xl1zA20",
        "colab": {
          "base_uri": "https://localhost:8080/"
        },
        "outputId": "595117e2-0e52-4d75-e4a0-e89659b93b05"
      },
      "source": [
        "pd.unique(df_subject.Activity)"
      ],
      "execution_count": 23,
      "outputs": [
        {
          "output_type": "execute_result",
          "data": {
            "text/plain": [
              "array(['STANDING', 'SITTING', 'LAYING', 'WALKING', 'WALKING_DOWNSTAIRS',\n",
              "       'WALKING_UPSTAIRS'], dtype=object)"
            ]
          },
          "metadata": {
            "tags": []
          },
          "execution_count": 23
        }
      ]
    },
    {
      "cell_type": "code",
      "metadata": {
        "id": "q46qgLZ3zA20",
        "colab": {
          "base_uri": "https://localhost:8080/",
          "height": 269
        },
        "outputId": "583c5509-3b9a-409f-8d75-0a81bb6a7bfc"
      },
      "source": [
        "activity_codes = {\n",
        "    \"STANDING\": \"red\", \"SITTING\": \"green\", \"LAYING\": \"blue\", \"WALKING\": \"yellow\",\n",
        "    'WALKING_DOWNSTAIRS': \"cyan\", 'WALKING_UPSTAIRS': \"orange\" }\n",
        "\n",
        "for i in range(data_projected.shape[0]):\n",
        "    ax = plt.scatter(data_projected[i,1], data_projected[i,3], c = activity_codes[df_subject.Activity[i]])\n",
        "    "
      ],
      "execution_count": 24,
      "outputs": [
        {
          "output_type": "display_data",
          "data": {
            "image/png": "[encoded data removed]",
            "text/plain": [
              "<Figure size 432x288 with 1 Axes>"
            ]
          },
          "metadata": {
            "tags": [],
            "needs_background": "light"
          }
        }
      ]
    },
    {
      "cell_type": "code",
      "metadata": {
        "id": "woYiTu0WzA21",
        "colab": {
          "base_uri": "https://localhost:8080/",
          "height": 269
        },
        "outputId": "be8231b0-ae40-4687-dc73-4aa0f193ae4b"
      },
      "source": [
        "for i in range(data_projected.shape[0]):\n",
        "    ax = plt.scatter(data[i,1], data[i,3], c = activity_codes[df_subject.Activity[i]])\n",
        "\n"
      ],
      "execution_count": 27,
      "outputs": [
        {
          "output_type": "display_data",
          "data": {
            "image/png": "[encoded data removed]",
            "text/plain": [
              "<Figure size 432x288 with 1 Axes>"
            ]
          },
          "metadata": {
            "tags": [],
            "needs_background": "light"
          }
        }
      ]
    },
    {
      "cell_type": "code",
      "metadata": {
        "id": "h5Wch7v5zA21",
        "colab": {
          "base_uri": "https://localhost:8080/",
          "height": 269
        },
        "outputId": "f9b5e6d7-6ccb-4900-93f0-658b45e142c1"
      },
      "source": [
        "for i in range(data_projected.shape[0]):\n",
        "    plt.scatter(i, U[i,3], c = activity_codes[df_subject.Activity[i]])\n"
      ],
      "execution_count": 30,
      "outputs": [
        {
          "output_type": "display_data",
          "data": {
            "image/png": "[encoded data removed]",
            "text/plain": [
              "<Figure size 432x288 with 1 Axes>"
            ]
          },
          "metadata": {
            "tags": [],
            "needs_background": "light"
          }
        }
      ]
    },
    {
      "cell_type": "markdown",
      "metadata": {
        "id": "dSaoe5hvzA22"
      },
      "source": [
        "# Psuedo-Inverse\n",
        "\n",
        "Often, we are given a $y \\in \\mathbb{R}^{m}$ and $A \\in \\mathbb{R}^{m\\times n}$ and would like to find an $x \\in \\mathbb{R}^{n}$ so that $y = Ax$. We would like to find an inverse matrix $A^{-1}$ so that $x = A^{-1}y$.\n",
        "\n",
        "\n",
        "For $A \\in \\mathbb{R}^{m\\times n}$, a pseudoinverse of $A$ is defined as a matrix $A^+ \\in\\mathbb{R}^{n\\times m}$ satisfying all of the following criteria:\n",
        "\n",
        "- $AA^+A = A\\qquad\\qquad$($AA^+$ need not be the general identity matrix, but it maps all column vectors of $A$ to themselves);\n",
        "- $\\left(AA^+\\right)^T = AA^+\\qquad$ ($AA^+$ is *symmetric*); and\n",
        "- $\\left(A^+A\\right)^T = A^+A\\qquad$ ($A^+A$ is *symmetric*).\n",
        "\n",
        "$A^+$ exists for any matrix $A$, but when the latter has full rank, $A^+$ can be expressed as a simple algebraic formula. In particular, when $A$ has linearly independent columns (and thus matrix $A^TA$ is invertible), $A^+$ can be computed as:\n",
        "\n",
        "$A^+ = \\left(A^TA\\right)^{-1}A^T.$\n",
        "\n",
        "\n",
        "This particular pseudoinverse constitutes a \\emph{left inverse}, since, in this case, $A^+A = I$.\n",
        "\n",
        "When $A$ has linearly independent rows (matrix $AA^T$ is invertible), $A^+$ can be computed as:\n",
        "\n",
        "$A^+ = A^T\\left(AA^T\\right)^{-1}$\n",
        "\n",
        "This is a *right inverse*, as $AA^+ = I$"
      ]
    },
    {
      "cell_type": "code",
      "metadata": {
        "collapsed": true,
        "id": "zdq_GF0HzA22"
      },
      "source": [
        "df = pd.read_csv(\"/Users/myazdaniUCSD/Documents/misc_work/AirBnB/sd/listings.csv\")"
      ],
      "execution_count": null,
      "outputs": []
    },
    {
      "cell_type": "code",
      "metadata": {
        "id": "pcT0i8SgzA23",
        "outputId": "e87e3ac3-8408-43ab-ebfa-7215175b3274"
      },
      "source": [
        "df.columns"
      ],
      "execution_count": null,
      "outputs": [
        {
          "output_type": "execute_result",
          "data": {
            "text/plain": [
              "Index([u'id', u'listing_url', u'scrape_id', u'last_scraped', u'name',\n",
              "       u'summary', u'space', u'description', u'experiences_offered',\n",
              "       u'neighborhood_overview', u'notes', u'transit', u'access',\n",
              "       u'interaction', u'house_rules', u'thumbnail_url', u'medium_url',\n",
              "       u'picture_url', u'xl_picture_url', u'host_id', u'host_url',\n",
              "       u'host_name', u'host_since', u'host_location', u'host_about',\n",
              "       u'host_response_time', u'host_response_rate', u'host_acceptance_rate',\n",
              "       u'host_is_superhost', u'host_thumbnail_url', u'host_picture_url',\n",
              "       u'host_neighbourhood', u'host_listings_count',\n",
              "       u'host_total_listings_count', u'host_verifications',\n",
              "       u'host_has_profile_pic', u'host_identity_verified', u'street',\n",
              "       u'neighbourhood', u'neighbourhood_cleansed',\n",
              "       u'neighbourhood_group_cleansed', u'city', u'state', u'zipcode',\n",
              "       u'market', u'smart_location', u'country_code', u'country', u'latitude',\n",
              "       u'longitude', u'is_location_exact', u'property_type', u'room_type',\n",
              "       u'accommodates', u'bathrooms', u'bedrooms', u'beds', u'bed_type',\n",
              "       u'amenities', u'square_feet', u'price', u'weekly_price',\n",
              "       u'monthly_price', u'security_deposit', u'cleaning_fee',\n",
              "       u'guests_included', u'extra_people', u'minimum_nights',\n",
              "       u'maximum_nights', u'calendar_updated', u'has_availability',\n",
              "       u'availability_30', u'availability_60', u'availability_90',\n",
              "       u'availability_365', u'calendar_last_scraped', u'number_of_reviews',\n",
              "       u'first_review', u'last_review', u'review_scores_rating',\n",
              "       u'review_scores_accuracy', u'review_scores_cleanliness',\n",
              "       u'review_scores_checkin', u'review_scores_communication',\n",
              "       u'review_scores_location', u'review_scores_value', u'requires_license',\n",
              "       u'license', u'jurisdiction_names', u'instant_bookable',\n",
              "       u'cancellation_policy', u'require_guest_profile_picture',\n",
              "       u'require_guest_phone_verification', u'calculated_host_listings_count',\n",
              "       u'reviews_per_month'],\n",
              "      dtype='object')"
            ]
          },
          "metadata": {
            "tags": []
          },
          "execution_count": 29
        }
      ]
    },
    {
      "cell_type": "code",
      "metadata": {
        "id": "NtGemyAgzA24"
      },
      "source": [
        "df[\"price\"] = df[\"price\"].replace( '[\\$,)]','', regex=True).astype(float)"
      ],
      "execution_count": null,
      "outputs": []
    },
    {
      "cell_type": "code",
      "metadata": {
        "id": "B_oAli4izA24",
        "outputId": "6993753a-9007-4798-bc13-5a99a8740265"
      },
      "source": [
        "df[['minimum_nights', 'longitude', 'latitude', 'amenities', 'number_of_reviews', u'price', 'square_feet']].describe()"
      ],
      "execution_count": null,
      "outputs": [
        {
          "output_type": "stream",
          "text": [
            "/Users/myazdaniUCSD/anaconda/lib/python2.7/site-packages/numpy/lib/function_base.py:3834: RuntimeWarning: Invalid value encountered in percentile\n",
            "  RuntimeWarning)\n"
          ],
          "name": "stderr"
        },
        {
          "output_type": "execute_result",
          "data": {
            "text/html": [
              "<div>\n",
              "<table border=\"1\" class=\"dataframe\">\n",
              "  <thead>\n",
              "    <tr style=\"text-align: right;\">\n",
              "      <th></th>\n",
              "      <th>minimum_nights</th>\n",
              "      <th>longitude</th>\n",
              "      <th>latitude</th>\n",
              "      <th>number_of_reviews</th>\n",
              "      <th>price</th>\n",
              "      <th>square_feet</th>\n",
              "    </tr>\n",
              "  </thead>\n",
              "  <tbody>\n",
              "    <tr>\n",
              "      <th>count</th>\n",
              "      <td>6608.000000</td>\n",
              "      <td>6608.000000</td>\n",
              "      <td>6608.000000</td>\n",
              "      <td>6608.000000</td>\n",
              "      <td>6608.000000</td>\n",
              "      <td>105.000000</td>\n",
              "    </tr>\n",
              "    <tr>\n",
              "      <th>mean</th>\n",
              "      <td>2.667827</td>\n",
              "      <td>-117.188281</td>\n",
              "      <td>32.775923</td>\n",
              "      <td>14.052663</td>\n",
              "      <td>212.100333</td>\n",
              "      <td>1215.828571</td>\n",
              "    </tr>\n",
              "    <tr>\n",
              "      <th>std</th>\n",
              "      <td>5.373163</td>\n",
              "      <td>0.063576</td>\n",
              "      <td>0.065129</td>\n",
              "      <td>29.048306</td>\n",
              "      <td>272.866480</td>\n",
              "      <td>3168.834627</td>\n",
              "    </tr>\n",
              "    <tr>\n",
              "      <th>min</th>\n",
              "      <td>1.000000</td>\n",
              "      <td>-117.281170</td>\n",
              "      <td>32.532181</td>\n",
              "      <td>0.000000</td>\n",
              "      <td>10.000000</td>\n",
              "      <td>0.000000</td>\n",
              "    </tr>\n",
              "    <tr>\n",
              "      <th>25%</th>\n",
              "      <td>1.000000</td>\n",
              "      <td>-117.249511</td>\n",
              "      <td>32.734452</td>\n",
              "      <td>0.000000</td>\n",
              "      <td>80.000000</td>\n",
              "      <td>NaN</td>\n",
              "    </tr>\n",
              "    <tr>\n",
              "      <th>50%</th>\n",
              "      <td>2.000000</td>\n",
              "      <td>-117.186412</td>\n",
              "      <td>32.763080</td>\n",
              "      <td>3.000000</td>\n",
              "      <td>135.000000</td>\n",
              "      <td>NaN</td>\n",
              "    </tr>\n",
              "    <tr>\n",
              "      <th>75%</th>\n",
              "      <td>3.000000</td>\n",
              "      <td>-117.144519</td>\n",
              "      <td>32.803935</td>\n",
              "      <td>14.000000</td>\n",
              "      <td>249.000000</td>\n",
              "      <td>NaN</td>\n",
              "    </tr>\n",
              "    <tr>\n",
              "      <th>max</th>\n",
              "      <td>184.000000</td>\n",
              "      <td>-116.934752</td>\n",
              "      <td>33.083107</td>\n",
              "      <td>367.000000</td>\n",
              "      <td>4900.000000</td>\n",
              "      <td>32292.000000</td>\n",
              "    </tr>\n",
              "  </tbody>\n",
              "</table>\n",
              "</div>"
            ],
            "text/plain": [
              "       minimum_nights    longitude     latitude  number_of_reviews  \\\n",
              "count     6608.000000  6608.000000  6608.000000        6608.000000   \n",
              "mean         2.667827  -117.188281    32.775923          14.052663   \n",
              "std          5.373163     0.063576     0.065129          29.048306   \n",
              "min          1.000000  -117.281170    32.532181           0.000000   \n",
              "25%          1.000000  -117.249511    32.734452           0.000000   \n",
              "50%          2.000000  -117.186412    32.763080           3.000000   \n",
              "75%          3.000000  -117.144519    32.803935          14.000000   \n",
              "max        184.000000  -116.934752    33.083107         367.000000   \n",
              "\n",
              "             price   square_feet  \n",
              "count  6608.000000    105.000000  \n",
              "mean    212.100333   1215.828571  \n",
              "std     272.866480   3168.834627  \n",
              "min      10.000000      0.000000  \n",
              "25%      80.000000           NaN  \n",
              "50%     135.000000           NaN  \n",
              "75%     249.000000           NaN  \n",
              "max    4900.000000  32292.000000  "
            ]
          },
          "metadata": {
            "tags": []
          },
          "execution_count": 31
        }
      ]
    },
    {
      "cell_type": "code",
      "metadata": {
        "id": "oc9IcwUszA24"
      },
      "source": [
        "df_mini = df[['review_scores_rating',\n",
        "       u'review_scores_accuracy', u'review_scores_cleanliness',\n",
        "       u'review_scores_checkin', u'review_scores_communication',\n",
        "       u'review_scores_location', u'review_scores_value', 'square_feet', 'price']]"
      ],
      "execution_count": null,
      "outputs": []
    },
    {
      "cell_type": "code",
      "metadata": {
        "id": "8a9gL_XkzA24",
        "outputId": "82b64fb0-8051-47b0-8249-9a9e433956a7"
      },
      "source": [
        "df_mini.describe()"
      ],
      "execution_count": null,
      "outputs": [
        {
          "output_type": "execute_result",
          "data": {
            "text/html": [
              "<div>\n",
              "<table border=\"1\" class=\"dataframe\">\n",
              "  <thead>\n",
              "    <tr style=\"text-align: right;\">\n",
              "      <th></th>\n",
              "      <th>review_scores_rating</th>\n",
              "      <th>review_scores_accuracy</th>\n",
              "      <th>review_scores_cleanliness</th>\n",
              "      <th>review_scores_checkin</th>\n",
              "      <th>review_scores_communication</th>\n",
              "      <th>review_scores_location</th>\n",
              "      <th>review_scores_value</th>\n",
              "      <th>square_feet</th>\n",
              "      <th>price</th>\n",
              "    </tr>\n",
              "  </thead>\n",
              "  <tbody>\n",
              "    <tr>\n",
              "      <th>count</th>\n",
              "      <td>4482.000000</td>\n",
              "      <td>4466.000000</td>\n",
              "      <td>4467.000000</td>\n",
              "      <td>4465.000000</td>\n",
              "      <td>4469.000000</td>\n",
              "      <td>4468.000000</td>\n",
              "      <td>4468.000000</td>\n",
              "      <td>105.000000</td>\n",
              "      <td>6608.000000</td>\n",
              "    </tr>\n",
              "    <tr>\n",
              "      <th>mean</th>\n",
              "      <td>94.380411</td>\n",
              "      <td>9.595611</td>\n",
              "      <td>9.498545</td>\n",
              "      <td>9.789250</td>\n",
              "      <td>9.785187</td>\n",
              "      <td>9.648389</td>\n",
              "      <td>9.455685</td>\n",
              "      <td>1215.828571</td>\n",
              "      <td>212.100333</td>\n",
              "    </tr>\n",
              "    <tr>\n",
              "      <th>std</th>\n",
              "      <td>7.822489</td>\n",
              "      <td>0.797768</td>\n",
              "      <td>0.895671</td>\n",
              "      <td>0.604768</td>\n",
              "      <td>0.635734</td>\n",
              "      <td>0.681164</td>\n",
              "      <td>0.835499</td>\n",
              "      <td>3168.834627</td>\n",
              "      <td>272.866480</td>\n",
              "    </tr>\n",
              "    <tr>\n",
              "      <th>min</th>\n",
              "      <td>20.000000</td>\n",
              "      <td>2.000000</td>\n",
              "      <td>2.000000</td>\n",
              "      <td>2.000000</td>\n",
              "      <td>2.000000</td>\n",
              "      <td>3.000000</td>\n",
              "      <td>2.000000</td>\n",
              "      <td>0.000000</td>\n",
              "      <td>10.000000</td>\n",
              "    </tr>\n",
              "    <tr>\n",
              "      <th>25%</th>\n",
              "      <td>NaN</td>\n",
              "      <td>NaN</td>\n",
              "      <td>NaN</td>\n",
              "      <td>NaN</td>\n",
              "      <td>NaN</td>\n",
              "      <td>NaN</td>\n",
              "      <td>NaN</td>\n",
              "      <td>NaN</td>\n",
              "      <td>80.000000</td>\n",
              "    </tr>\n",
              "    <tr>\n",
              "      <th>50%</th>\n",
              "      <td>NaN</td>\n",
              "      <td>NaN</td>\n",
              "      <td>NaN</td>\n",
              "      <td>NaN</td>\n",
              "      <td>NaN</td>\n",
              "      <td>NaN</td>\n",
              "      <td>NaN</td>\n",
              "      <td>NaN</td>\n",
              "      <td>135.000000</td>\n",
              "    </tr>\n",
              "    <tr>\n",
              "      <th>75%</th>\n",
              "      <td>NaN</td>\n",
              "      <td>NaN</td>\n",
              "      <td>NaN</td>\n",
              "      <td>NaN</td>\n",
              "      <td>NaN</td>\n",
              "      <td>NaN</td>\n",
              "      <td>NaN</td>\n",
              "      <td>NaN</td>\n",
              "      <td>249.000000</td>\n",
              "    </tr>\n",
              "    <tr>\n",
              "      <th>max</th>\n",
              "      <td>100.000000</td>\n",
              "      <td>10.000000</td>\n",
              "      <td>10.000000</td>\n",
              "      <td>10.000000</td>\n",
              "      <td>10.000000</td>\n",
              "      <td>10.000000</td>\n",
              "      <td>10.000000</td>\n",
              "      <td>32292.000000</td>\n",
              "      <td>4900.000000</td>\n",
              "    </tr>\n",
              "  </tbody>\n",
              "</table>\n",
              "</div>"
            ],
            "text/plain": [
              "       review_scores_rating  review_scores_accuracy  \\\n",
              "count           4482.000000             4466.000000   \n",
              "mean              94.380411                9.595611   \n",
              "std                7.822489                0.797768   \n",
              "min               20.000000                2.000000   \n",
              "25%                     NaN                     NaN   \n",
              "50%                     NaN                     NaN   \n",
              "75%                     NaN                     NaN   \n",
              "max              100.000000               10.000000   \n",
              "\n",
              "       review_scores_cleanliness  review_scores_checkin  \\\n",
              "count                4467.000000            4465.000000   \n",
              "mean                    9.498545               9.789250   \n",
              "std                     0.895671               0.604768   \n",
              "min                     2.000000               2.000000   \n",
              "25%                          NaN                    NaN   \n",
              "50%                          NaN                    NaN   \n",
              "75%                          NaN                    NaN   \n",
              "max                    10.000000              10.000000   \n",
              "\n",
              "       review_scores_communication  review_scores_location  \\\n",
              "count                  4469.000000             4468.000000   \n",
              "mean                      9.785187                9.648389   \n",
              "std                       0.635734                0.681164   \n",
              "min                       2.000000                3.000000   \n",
              "25%                            NaN                     NaN   \n",
              "50%                            NaN                     NaN   \n",
              "75%                            NaN                     NaN   \n",
              "max                      10.000000               10.000000   \n",
              "\n",
              "       review_scores_value   square_feet        price  \n",
              "count          4468.000000    105.000000  6608.000000  \n",
              "mean              9.455685   1215.828571   212.100333  \n",
              "std               0.835499   3168.834627   272.866480  \n",
              "min               2.000000      0.000000    10.000000  \n",
              "25%                    NaN           NaN    80.000000  \n",
              "50%                    NaN           NaN   135.000000  \n",
              "75%                    NaN           NaN   249.000000  \n",
              "max              10.000000  32292.000000  4900.000000  "
            ]
          },
          "metadata": {
            "tags": []
          },
          "execution_count": 33
        }
      ]
    },
    {
      "cell_type": "code",
      "metadata": {
        "id": "L0frenWmzA25"
      },
      "source": [
        "df_clean= df_mini.dropna()"
      ],
      "execution_count": null,
      "outputs": []
    },
    {
      "cell_type": "code",
      "metadata": {
        "id": "mCJylmHuzA25",
        "outputId": "07effdfd-f394-485d-9a00-5dee1982c5f7"
      },
      "source": [
        "df_clean.describe()"
      ],
      "execution_count": null,
      "outputs": [
        {
          "output_type": "execute_result",
          "data": {
            "text/html": [
              "<div>\n",
              "<table border=\"1\" class=\"dataframe\">\n",
              "  <thead>\n",
              "    <tr style=\"text-align: right;\">\n",
              "      <th></th>\n",
              "      <th>review_scores_rating</th>\n",
              "      <th>review_scores_accuracy</th>\n",
              "      <th>review_scores_cleanliness</th>\n",
              "      <th>review_scores_checkin</th>\n",
              "      <th>review_scores_communication</th>\n",
              "      <th>review_scores_location</th>\n",
              "      <th>review_scores_value</th>\n",
              "      <th>square_feet</th>\n",
              "      <th>price</th>\n",
              "    </tr>\n",
              "  </thead>\n",
              "  <tbody>\n",
              "    <tr>\n",
              "      <th>count</th>\n",
              "      <td>94.000000</td>\n",
              "      <td>94.00000</td>\n",
              "      <td>94.000000</td>\n",
              "      <td>94.000000</td>\n",
              "      <td>94.000000</td>\n",
              "      <td>94.000000</td>\n",
              "      <td>94.000000</td>\n",
              "      <td>94.000000</td>\n",
              "      <td>94.000000</td>\n",
              "    </tr>\n",
              "    <tr>\n",
              "      <th>mean</th>\n",
              "      <td>94.542553</td>\n",
              "      <td>9.56383</td>\n",
              "      <td>9.425532</td>\n",
              "      <td>9.765957</td>\n",
              "      <td>9.787234</td>\n",
              "      <td>9.553191</td>\n",
              "      <td>9.404255</td>\n",
              "      <td>1267.042553</td>\n",
              "      <td>215.861702</td>\n",
              "    </tr>\n",
              "    <tr>\n",
              "      <th>std</th>\n",
              "      <td>4.766967</td>\n",
              "      <td>0.63175</td>\n",
              "      <td>0.782735</td>\n",
              "      <td>0.495692</td>\n",
              "      <td>0.436810</td>\n",
              "      <td>0.727598</td>\n",
              "      <td>0.627662</td>\n",
              "      <td>3340.204014</td>\n",
              "      <td>306.110866</td>\n",
              "    </tr>\n",
              "    <tr>\n",
              "      <th>min</th>\n",
              "      <td>80.000000</td>\n",
              "      <td>7.00000</td>\n",
              "      <td>6.000000</td>\n",
              "      <td>8.000000</td>\n",
              "      <td>8.000000</td>\n",
              "      <td>6.000000</td>\n",
              "      <td>8.000000</td>\n",
              "      <td>0.000000</td>\n",
              "      <td>33.000000</td>\n",
              "    </tr>\n",
              "    <tr>\n",
              "      <th>25%</th>\n",
              "      <td>93.000000</td>\n",
              "      <td>9.00000</td>\n",
              "      <td>9.000000</td>\n",
              "      <td>10.000000</td>\n",
              "      <td>10.000000</td>\n",
              "      <td>9.000000</td>\n",
              "      <td>9.000000</td>\n",
              "      <td>231.250000</td>\n",
              "      <td>75.000000</td>\n",
              "    </tr>\n",
              "    <tr>\n",
              "      <th>50%</th>\n",
              "      <td>95.000000</td>\n",
              "      <td>10.00000</td>\n",
              "      <td>10.000000</td>\n",
              "      <td>10.000000</td>\n",
              "      <td>10.000000</td>\n",
              "      <td>10.000000</td>\n",
              "      <td>9.000000</td>\n",
              "      <td>822.000000</td>\n",
              "      <td>135.000000</td>\n",
              "    </tr>\n",
              "    <tr>\n",
              "      <th>75%</th>\n",
              "      <td>98.000000</td>\n",
              "      <td>10.00000</td>\n",
              "      <td>10.000000</td>\n",
              "      <td>10.000000</td>\n",
              "      <td>10.000000</td>\n",
              "      <td>10.000000</td>\n",
              "      <td>10.000000</td>\n",
              "      <td>1468.500000</td>\n",
              "      <td>218.750000</td>\n",
              "    </tr>\n",
              "    <tr>\n",
              "      <th>max</th>\n",
              "      <td>100.000000</td>\n",
              "      <td>10.00000</td>\n",
              "      <td>10.000000</td>\n",
              "      <td>10.000000</td>\n",
              "      <td>10.000000</td>\n",
              "      <td>10.000000</td>\n",
              "      <td>10.000000</td>\n",
              "      <td>32292.000000</td>\n",
              "      <td>2500.000000</td>\n",
              "    </tr>\n",
              "  </tbody>\n",
              "</table>\n",
              "</div>"
            ],
            "text/plain": [
              "       review_scores_rating  review_scores_accuracy  \\\n",
              "count             94.000000                94.00000   \n",
              "mean              94.542553                 9.56383   \n",
              "std                4.766967                 0.63175   \n",
              "min               80.000000                 7.00000   \n",
              "25%               93.000000                 9.00000   \n",
              "50%               95.000000                10.00000   \n",
              "75%               98.000000                10.00000   \n",
              "max              100.000000                10.00000   \n",
              "\n",
              "       review_scores_cleanliness  review_scores_checkin  \\\n",
              "count                  94.000000              94.000000   \n",
              "mean                    9.425532               9.765957   \n",
              "std                     0.782735               0.495692   \n",
              "min                     6.000000               8.000000   \n",
              "25%                     9.000000              10.000000   \n",
              "50%                    10.000000              10.000000   \n",
              "75%                    10.000000              10.000000   \n",
              "max                    10.000000              10.000000   \n",
              "\n",
              "       review_scores_communication  review_scores_location  \\\n",
              "count                    94.000000               94.000000   \n",
              "mean                      9.787234                9.553191   \n",
              "std                       0.436810                0.727598   \n",
              "min                       8.000000                6.000000   \n",
              "25%                      10.000000                9.000000   \n",
              "50%                      10.000000               10.000000   \n",
              "75%                      10.000000               10.000000   \n",
              "max                      10.000000               10.000000   \n",
              "\n",
              "       review_scores_value   square_feet        price  \n",
              "count            94.000000     94.000000    94.000000  \n",
              "mean              9.404255   1267.042553   215.861702  \n",
              "std               0.627662   3340.204014   306.110866  \n",
              "min               8.000000      0.000000    33.000000  \n",
              "25%               9.000000    231.250000    75.000000  \n",
              "50%               9.000000    822.000000   135.000000  \n",
              "75%              10.000000   1468.500000   218.750000  \n",
              "max              10.000000  32292.000000  2500.000000  "
            ]
          },
          "metadata": {
            "tags": []
          },
          "execution_count": 35
        }
      ]
    },
    {
      "cell_type": "code",
      "metadata": {
        "collapsed": true,
        "id": "jDqy56TbzA25"
      },
      "source": [
        "y = np.array(df_clean.price)"
      ],
      "execution_count": null,
      "outputs": []
    },
    {
      "cell_type": "code",
      "metadata": {
        "collapsed": true,
        "id": "b6fOvEFVzA25"
      },
      "source": [
        "A = np.array(df_clean.iloc[:,:-1])"
      ],
      "execution_count": null,
      "outputs": []
    },
    {
      "cell_type": "code",
      "metadata": {
        "id": "OBttill1zA26",
        "outputId": "40e4a9fc-bc28-4770-85c1-f5ce9268cd20"
      },
      "source": [
        "A.shape"
      ],
      "execution_count": null,
      "outputs": [
        {
          "output_type": "execute_result",
          "data": {
            "text/plain": [
              "(94, 8)"
            ]
          },
          "metadata": {
            "tags": []
          },
          "execution_count": 38
        }
      ]
    },
    {
      "cell_type": "code",
      "metadata": {
        "id": "gRHjEPOJzA26",
        "outputId": "45e70264-5098-4f71-b0ba-26bd2345d7c9"
      },
      "source": [
        "y.shape"
      ],
      "execution_count": null,
      "outputs": [
        {
          "output_type": "execute_result",
          "data": {
            "text/plain": [
              "(94,)"
            ]
          },
          "metadata": {
            "tags": []
          },
          "execution_count": 39
        }
      ]
    },
    {
      "cell_type": "code",
      "metadata": {
        "collapsed": true,
        "id": "-nIg8LBGzA26"
      },
      "source": [
        "x = np.dot(np.linalg.pinv(A),np.log10(y))"
      ],
      "execution_count": null,
      "outputs": []
    },
    {
      "cell_type": "code",
      "metadata": {
        "id": "C2mDytF2zA26",
        "outputId": "f0694325-6ddb-4b7b-f903-097a61495d9c"
      },
      "source": [
        "x.shape"
      ],
      "execution_count": null,
      "outputs": [
        {
          "output_type": "execute_result",
          "data": {
            "text/plain": [
              "(8,)"
            ]
          },
          "metadata": {
            "tags": []
          },
          "execution_count": 41
        }
      ]
    },
    {
      "cell_type": "code",
      "metadata": {
        "id": "xjbNtiEhzA27",
        "outputId": "c70ec976-e7b4-4f07-df77-68fcff0122b4"
      },
      "source": [
        "x"
      ],
      "execution_count": null,
      "outputs": [
        {
          "output_type": "execute_result",
          "data": {
            "text/plain": [
              "array([  4.03114125e-02,   1.65730402e-02,  -4.74035010e-02,\n",
              "        -2.61733780e-01,   1.83803779e-01,   2.48211305e-02,\n",
              "        -9.25695463e-02,   1.00205431e-05])"
            ]
          },
          "metadata": {
            "tags": []
          },
          "execution_count": 42
        }
      ]
    },
    {
      "cell_type": "code",
      "metadata": {
        "collapsed": true,
        "id": "8T3ZRtZvzA27"
      },
      "source": [
        "y_hat = np.dot(A,x)"
      ],
      "execution_count": null,
      "outputs": []
    },
    {
      "cell_type": "code",
      "metadata": {
        "id": "C4jI-yDAzA27",
        "outputId": "e20fcd71-958a-42d6-f19a-6cd25b2a1093"
      },
      "source": [
        "y_hat.shape"
      ],
      "execution_count": null,
      "outputs": [
        {
          "output_type": "execute_result",
          "data": {
            "text/plain": [
              "(94,)"
            ]
          },
          "metadata": {
            "tags": []
          },
          "execution_count": 44
        }
      ]
    },
    {
      "cell_type": "code",
      "metadata": {
        "id": "FuxaP1swzA27",
        "outputId": "402ec3f6-ae9f-43e5-ed76-776a4b8630e0"
      },
      "source": [
        "plt.plot(range(y_hat.shape[0]), 10**y_hat - y, '.')"
      ],
      "execution_count": null,
      "outputs": [
        {
          "output_type": "execute_result",
          "data": {
            "text/plain": [
              "[<matplotlib.lines.Line2D at 0x126bbfb10>]"
            ]
          },
          "metadata": {
            "tags": []
          },
          "execution_count": 45
        },
        {
          "output_type": "display_data",
          "data": {
            "image/png": "[encoded data removed]",
            "text/plain": [
              "<matplotlib.figure.Figure at 0x11d9cd6d0>"
            ]
          },
          "metadata": {
            "tags": []
          }
        }
      ]
    },
    {
      "cell_type": "code",
      "metadata": {
        "id": "FzzbpdOUzA27"
      },
      "source": [
        "A_mini = A[np.abs(10**y_hat - y) < 100,:]\n",
        "y_mini = y[np.abs(10**y_hat - y) < 100]"
      ],
      "execution_count": null,
      "outputs": []
    },
    {
      "cell_type": "code",
      "metadata": {
        "id": "sn5ju92HzA28"
      },
      "source": [
        "x_mini = np.dot(np.linalg.pinv(A_mini),np.log10(y_mini))"
      ],
      "execution_count": null,
      "outputs": []
    },
    {
      "cell_type": "code",
      "metadata": {
        "id": "wKuZST7mzA28"
      },
      "source": [
        "y_hat_mini = np.dot(A_mini, x_mini)"
      ],
      "execution_count": null,
      "outputs": []
    },
    {
      "cell_type": "code",
      "metadata": {
        "id": "24q0NDqpzA28",
        "outputId": "a4e4da4b-9bbf-4e4f-8b7f-ef373ca16ae1"
      },
      "source": [
        "plt.plot(range(y_hat_mini.shape[0]), 10**y_hat_mini - y_mini, '.')"
      ],
      "execution_count": null,
      "outputs": [
        {
          "output_type": "execute_result",
          "data": {
            "text/plain": [
              "[<matplotlib.lines.Line2D at 0x1273b5990>]"
            ]
          },
          "metadata": {
            "tags": []
          },
          "execution_count": 49
        },
        {
          "output_type": "display_data",
          "data": {
            "image/png": "[encoded data removed]",
            "text/plain": [
              "<matplotlib.figure.Figure at 0x126b52610>"
            ]
          },
          "metadata": {
            "tags": []
          }
        }
      ]
    },
    {
      "cell_type": "code",
      "metadata": {
        "id": "AU8U2krQzA28",
        "outputId": "748e43b0-dbba-491a-bb3f-b809239b9d83"
      },
      "source": [
        "np.mean(10**y_hat_mini - y_mini)"
      ],
      "execution_count": null,
      "outputs": [
        {
          "output_type": "execute_result",
          "data": {
            "text/plain": [
              "-6.8118093314299299"
            ]
          },
          "metadata": {
            "tags": []
          },
          "execution_count": 50
        }
      ]
    },
    {
      "cell_type": "markdown",
      "metadata": {
        "id": "60aD4J8gzA28"
      },
      "source": [
        "# Eigenvalues and eigenvectors\n",
        "\n",
        "Square matrices like $A \\in \\mathbb{R}^{n\\times n}$ are very special in that they transform inputs from $x \\in \\mathbb{R}^{n}$ to $y \\in \\mathbb{R}^{n}$\n",
        "\n",
        "A (non-zero) vector $v$ of dimension $n$ is an **eigenvector** of a square ($n \\times n$) matrix $A$ if it satisfies the linear equation\n",
        "\n",
        "- $Av = \\lambda v$\n",
        "\n",
        "\n",
        "where $\\lambda$ is a scalar, termed the **eigenvalue** corresponding to $v$. That is, the eigenvectors are the vectors that the linear transformation $A$ merely elongates or shrinks, and the amount that they elongate/shrink by is the eigenvalue. The above equation is called the **eigenvalue equation** or the eigenvalue problem.\n",
        "\n",
        "This yields an equation for the eigenvalues\n",
        "\n",
        "- $p\\left(\\lambda\\right) = \\det \\left(A - \\lambda \\mathbf{I}\\right) = 0$\n",
        "\n",
        "\n",
        "We call $p\\left(\\lambda\\right)$ the **characteristic polynomial**, and the equation, called the **characteristic equation**, is an $n$th order polynomial equation in the unknown $\\lambda$. This equation will have $n_\\lambda$ distinct solutions, where $1 \\leq n_\\lambda \\leq n$ . The set of solutions, that is, the eigenvalues, is called the **spectrum** of $A$.\n",
        "\n",
        "\n",
        "\n",
        "## Eigendecomposition of a matrix\n",
        "\n",
        "Let $A$ be a square $n \\times n$ matrix with n linearly independent eigenvectors, $q_i$ $( i = 1 , \\ldots , n )$. Then $A$ can be factorized as\n",
        "\n",
        "- $A = Q\\Lambda Q^{-1}$\n",
        "\n",
        "\n",
        "\n",
        "\n",
        "where $\\mathbf{Q}$ is the square ($n \\times n$) matrix whose $i^{th}$ column is the *normalized* eigenvector $q_i$ of $\\mathbf{A}$ and $\\mathbf{\\Lambda}$ is the diagonal matrix whose diagonal elements are the corresponding eigenvalues, i.e., $\\Lambda_{ii}=\\lambda _{i}$. \n",
        "\n",
        "\n",
        "\n",
        "The eigenvectors $q_{i}\\,\\,(i=1,\\dots ,N)$ are usually normalized, but they need not be. A non-normalized set of eigenvectors, $v_{i}\\,\\,(i=1,\\dots ,N)$, can also be used as the columns of $\\mathbf{Q}$. That can be understood by noting that the magnitude of the eigenvectors in $\\mathbf{Q}$ gets canceled in the decomposition by the presence of $\\mathbf{Q^{−1}}$.\n",
        "\n",
        "\n",
        "\n",
        "The decomposition can be derived from the fundamental property of eigenvectors: $\\mathbf{A}\\mathbf{v} =\\lambda \\mathbf{v}$ and thus $\\mathbf{A}\\mathbf {Q} =\\mathbf{Q}\\mathbf{\\Lambda}$ which yields $\\mathbf{A} =\\mathbf{Q}\\mathbf{\\Lambda }\\mathbf{Q}^{-1}$."
      ]
    }
  ]
}